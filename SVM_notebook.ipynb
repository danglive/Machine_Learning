{
  "nbformat": 4,
  "nbformat_minor": 0,
  "metadata": {
    "colab": {
      "name": "SVM_notebook.ipynb",
      "provenance": [],
      "include_colab_link": true
    },
    "kernelspec": {
      "name": "python3",
      "display_name": "Python 3"
    }
  },
  "cells": [
    {
      "cell_type": "markdown",
      "metadata": {
        "id": "view-in-github",
        "colab_type": "text"
      },
      "source": [
        "<a href=\"https://colab.research.google.com/github/danglive/Machine_Learning/blob/master/SVM_notebook.ipynb\" target=\"_parent\"><img src=\"https://colab.research.google.com/assets/colab-badge.svg\" alt=\"Open In Colab\"/></a>"
      ]
    },
    {
      "cell_type": "markdown",
      "metadata": {
        "id": "aAjVxUNYZWWu",
        "colab_type": "text"
      },
      "source": [
        "##Support vector machines"
      ]
    },
    {
      "cell_type": "code",
      "metadata": {
        "id": "3FIoOKyOZypC",
        "colab_type": "code",
        "colab": {
          "base_uri": "https://localhost:8080/",
          "height": 1000
        },
        "outputId": "90498ae0-7b76-4673-b4a4-ca0da6082f5f"
      },
      "source": [
        "!apt install octave"
      ],
      "execution_count": 3,
      "outputs": [
        {
          "output_type": "stream",
          "text": [
            "Reading package lists... Done\n",
            "Building dependency tree       \n",
            "Reading state information... Done\n",
            "The following package was automatically installed and is no longer required:\n",
            "  libnvidia-common-430\n",
            "Use 'apt autoremove' to remove it.\n",
            "The following additional packages will be installed:\n",
            "  aglfn epstool fonts-droid-fallback fonts-noto-mono ghostscript gnuplot-data\n",
            "  gnuplot-qt gsfonts imagemagick-6-common info install-info libamd2\n",
            "  libauthen-sasl-perl libcamd2 libccolamd2 libcholmod3 libcolamd2\n",
            "  libcupsfilters1 libcupsimage2 libcxsparse3 libdata-dump-perl libemf1\n",
            "  libencode-locale-perl libfftw3-single3 libfile-listing-perl libfltk-gl1.3\n",
            "  libfltk1.3 libfont-afm-perl libglpk40 libgraphicsmagick++-q16-12\n",
            "  libgraphicsmagick-q16-3 libgs9 libgs9-common libhtml-form-perl\n",
            "  libhtml-format-perl libhtml-parser-perl libhtml-tagset-perl\n",
            "  libhtml-tree-perl libhttp-cookies-perl libhttp-daemon-perl libhttp-date-perl\n",
            "  libhttp-message-perl libhttp-negotiate-perl libijs-0.35 libio-html-perl\n",
            "  libio-socket-ssl-perl libjbig2dec0 liblqr-1-0 liblua5.3-0\n",
            "  liblwp-mediatypes-perl liblwp-protocol-https-perl libmagick++-6.q16-7\n",
            "  libmagickcore-6.q16-3 libmagickwand-6.q16-3 libmailtools-perl libmetis5\n",
            "  libnet-http-perl libnet-smtp-ssl-perl libnet-ssleay-perl libnotify4\n",
            "  liboctave4 libosmesa6 libplot2c2 libportaudio2 libpstoedit0c2a libqrupdate1\n",
            "  libqscintilla2-qt5-13 libqscintilla2-qt5-l10n libqt5opengl5 libqt5svg5\n",
            "  libsuitesparseconfig5 libtext-unidecode-perl libtimedate-perl\n",
            "  libtry-tiny-perl libumfpack5 liburi-perl libwmf0.2-7 libwww-perl\n",
            "  libwww-robotrules-perl libwxbase3.0-0v5 libwxgtk3.0-0v5 libxml-libxml-perl\n",
            "  libxml-namespacesupport-perl libxml-parser-perl libxml-sax-base-perl\n",
            "  libxml-sax-expat-perl libxml-sax-perl libzip4 netbase notification-daemon\n",
            "  octave-common octave-doc perl-openssl-defaults poppler-data pstoedit\n",
            "  tex-common texinfo\n",
            "Suggested packages:\n",
            "  fonts-noto ghostscript-x gnuplot-doc texinfo-doc-nonfree libdigest-hmac-perl\n",
            "  libgssapi-perl libfftw3-bin libfftw3-dev libiodbc2-dev\n",
            "  default-libmysqlclient-dev graphicsmagick-dbg libcrypt-ssleay-perl\n",
            "  libmagickcore-6.q16-3-extra libqscintilla2-doc libwmf0.2-7-gtk\n",
            "  libauthen-ntlm-perl liboctave-dev www-browser | pdf-viewer poppler-utils\n",
            "  fonts-japanese-mincho | fonts-ipafont-mincho fonts-japanese-gothic\n",
            "  | fonts-ipafont-gothic fonts-arphic-ukai fonts-arphic-uming fonts-nanum xfig\n",
            "  | ivtools-bin | tgif | transfig debhelper texlive-base texlive-latex-base\n",
            "  texlive-generic-recommended texlive-fonts-recommended\n",
            "The following NEW packages will be installed:\n",
            "  aglfn epstool fonts-droid-fallback fonts-noto-mono ghostscript gnuplot-data\n",
            "  gnuplot-qt gsfonts imagemagick-6-common info install-info libamd2\n",
            "  libauthen-sasl-perl libcamd2 libccolamd2 libcholmod3 libcolamd2\n",
            "  libcupsfilters1 libcupsimage2 libcxsparse3 libdata-dump-perl libemf1\n",
            "  libencode-locale-perl libfftw3-single3 libfile-listing-perl libfltk-gl1.3\n",
            "  libfltk1.3 libfont-afm-perl libglpk40 libgraphicsmagick++-q16-12\n",
            "  libgraphicsmagick-q16-3 libgs9 libgs9-common libhtml-form-perl\n",
            "  libhtml-format-perl libhtml-parser-perl libhtml-tagset-perl\n",
            "  libhtml-tree-perl libhttp-cookies-perl libhttp-daemon-perl libhttp-date-perl\n",
            "  libhttp-message-perl libhttp-negotiate-perl libijs-0.35 libio-html-perl\n",
            "  libio-socket-ssl-perl libjbig2dec0 liblqr-1-0 liblua5.3-0\n",
            "  liblwp-mediatypes-perl liblwp-protocol-https-perl libmagick++-6.q16-7\n",
            "  libmagickcore-6.q16-3 libmagickwand-6.q16-3 libmailtools-perl libmetis5\n",
            "  libnet-http-perl libnet-smtp-ssl-perl libnet-ssleay-perl libnotify4\n",
            "  liboctave4 libosmesa6 libplot2c2 libportaudio2 libpstoedit0c2a libqrupdate1\n",
            "  libqscintilla2-qt5-13 libqscintilla2-qt5-l10n libqt5opengl5 libqt5svg5\n",
            "  libsuitesparseconfig5 libtext-unidecode-perl libtimedate-perl\n",
            "  libtry-tiny-perl libumfpack5 liburi-perl libwmf0.2-7 libwww-perl\n",
            "  libwww-robotrules-perl libwxbase3.0-0v5 libwxgtk3.0-0v5 libxml-libxml-perl\n",
            "  libxml-namespacesupport-perl libxml-parser-perl libxml-sax-base-perl\n",
            "  libxml-sax-expat-perl libxml-sax-perl libzip4 netbase notification-daemon\n",
            "  octave octave-common octave-doc perl-openssl-defaults poppler-data pstoedit\n",
            "  tex-common texinfo\n",
            "0 upgraded, 98 newly installed, 0 to remove and 7 not upgraded.\n",
            "Need to get 51.2 MB of archives.\n",
            "After this operation, 201 MB of additional disk space will be used.\n",
            "Get:1 http://archive.ubuntu.com/ubuntu bionic/main amd64 install-info amd64 6.5.0.dfsg.1-2 [55.4 kB]\n",
            "Get:2 http://archive.ubuntu.com/ubuntu bionic/main amd64 fonts-droid-fallback all 1:6.0.1r16-1.1 [1,805 kB]\n",
            "Get:3 http://archive.ubuntu.com/ubuntu bionic/main amd64 liblqr-1-0 amd64 0.4.2-2.1 [27.7 kB]\n",
            "Get:4 http://archive.ubuntu.com/ubuntu bionic-updates/main amd64 imagemagick-6-common all 8:6.9.7.4+dfsg-16ubuntu6.8 [60.0 kB]\n",
            "Get:5 http://archive.ubuntu.com/ubuntu bionic-updates/main amd64 libmagickcore-6.q16-3 amd64 8:6.9.7.4+dfsg-16ubuntu6.8 [1,616 kB]\n",
            "Get:6 http://archive.ubuntu.com/ubuntu bionic-updates/main amd64 libmagickwand-6.q16-3 amd64 8:6.9.7.4+dfsg-16ubuntu6.8 [294 kB]\n",
            "Get:7 http://archive.ubuntu.com/ubuntu bionic/main amd64 libqt5svg5 amd64 5.9.5-0ubuntu1 [128 kB]\n",
            "Get:8 http://archive.ubuntu.com/ubuntu bionic/main amd64 poppler-data all 0.4.8-2 [1,479 kB]\n",
            "Get:9 http://archive.ubuntu.com/ubuntu bionic/main amd64 tex-common all 6.09 [33.0 kB]\n",
            "Get:10 http://archive.ubuntu.com/ubuntu bionic/main amd64 netbase all 5.4 [12.7 kB]\n",
            "Get:11 http://archive.ubuntu.com/ubuntu bionic/main amd64 info amd64 6.5.0.dfsg.1-2 [104 kB]\n",
            "Get:12 http://archive.ubuntu.com/ubuntu bionic-updates/main amd64 libcupsimage2 amd64 2.2.7-1ubuntu2.7 [18.6 kB]\n",
            "Get:13 http://archive.ubuntu.com/ubuntu bionic/main amd64 libijs-0.35 amd64 0.35-13 [15.5 kB]\n",
            "Get:14 http://archive.ubuntu.com/ubuntu bionic/main amd64 libjbig2dec0 amd64 0.13-6 [55.9 kB]\n",
            "Get:15 http://archive.ubuntu.com/ubuntu bionic-updates/main amd64 libgs9-common all 9.26~dfsg+0-0ubuntu0.18.04.12 [5,092 kB]\n",
            "Get:16 http://archive.ubuntu.com/ubuntu bionic-updates/main amd64 libgs9 amd64 9.26~dfsg+0-0ubuntu0.18.04.12 [2,264 kB]\n",
            "Get:17 http://archive.ubuntu.com/ubuntu bionic-updates/main amd64 ghostscript amd64 9.26~dfsg+0-0ubuntu0.18.04.12 [50.9 kB]\n",
            "Get:18 http://archive.ubuntu.com/ubuntu bionic/universe amd64 epstool amd64 3.08+repack-7 [108 kB]\n",
            "Get:19 http://archive.ubuntu.com/ubuntu bionic/main amd64 fonts-noto-mono all 20171026-2 [75.5 kB]\n",
            "Get:20 http://archive.ubuntu.com/ubuntu bionic/universe amd64 aglfn all 1.7-3 [29.4 kB]\n",
            "Get:21 http://archive.ubuntu.com/ubuntu bionic/universe amd64 gnuplot-data all 5.2.2+dfsg1-2ubuntu1 [56.7 kB]\n",
            "Get:22 http://archive.ubuntu.com/ubuntu bionic-updates/main amd64 liblua5.3-0 amd64 5.3.3-1ubuntu0.18.04.1 [115 kB]\n",
            "Get:23 http://archive.ubuntu.com/ubuntu bionic/universe amd64 libwxbase3.0-0v5 amd64 3.0.4+dfsg-3 [954 kB]\n",
            "Get:24 http://archive.ubuntu.com/ubuntu bionic/main amd64 libnotify4 amd64 0.7.7-3 [17.3 kB]\n",
            "Get:25 http://archive.ubuntu.com/ubuntu bionic/universe amd64 libwxgtk3.0-0v5 amd64 3.0.4+dfsg-3 [4,182 kB]\n",
            "Get:26 http://archive.ubuntu.com/ubuntu bionic/universe amd64 gnuplot-qt amd64 5.2.2+dfsg1-2ubuntu1 [1,013 kB]\n",
            "Get:27 http://archive.ubuntu.com/ubuntu bionic/main amd64 gsfonts all 1:8.11+urwcyr1.0.7~pre44-4.4 [3,120 kB]\n",
            "Get:28 http://archive.ubuntu.com/ubuntu bionic/main amd64 libsuitesparseconfig5 amd64 1:5.1.2-2 [9,044 B]\n",
            "Get:29 http://archive.ubuntu.com/ubuntu bionic/main amd64 libamd2 amd64 1:5.1.2-2 [19.5 kB]\n",
            "Get:30 http://archive.ubuntu.com/ubuntu bionic/main amd64 libcamd2 amd64 1:5.1.2-2 [20.9 kB]\n",
            "Get:31 http://archive.ubuntu.com/ubuntu bionic/main amd64 libccolamd2 amd64 1:5.1.2-2 [21.7 kB]\n",
            "Get:32 http://archive.ubuntu.com/ubuntu bionic/main amd64 libcolamd2 amd64 1:5.1.2-2 [16.2 kB]\n",
            "Get:33 http://archive.ubuntu.com/ubuntu bionic/main amd64 libmetis5 amd64 5.1.0.dfsg-5 [169 kB]\n",
            "Get:34 http://archive.ubuntu.com/ubuntu bionic/main amd64 libcholmod3 amd64 1:5.1.2-2 [300 kB]\n",
            "Get:35 http://archive.ubuntu.com/ubuntu bionic-updates/main amd64 libcupsfilters1 amd64 1.20.2-0ubuntu3.1 [108 kB]\n",
            "Get:36 http://archive.ubuntu.com/ubuntu bionic/main amd64 libcxsparse3 amd64 1:5.1.2-2 [63.9 kB]\n",
            "Get:37 http://archive.ubuntu.com/ubuntu bionic/main amd64 libdata-dump-perl all 1.23-1 [27.0 kB]\n",
            "Get:38 http://archive.ubuntu.com/ubuntu bionic/universe amd64 libemf1 amd64 1.0.9+git.10.3231442-1 [54.7 kB]\n",
            "Get:39 http://archive.ubuntu.com/ubuntu bionic/main amd64 libencode-locale-perl all 1.05-1 [12.3 kB]\n",
            "Get:40 http://archive.ubuntu.com/ubuntu bionic/main amd64 libfftw3-single3 amd64 3.3.7-1 [764 kB]\n",
            "Get:41 http://archive.ubuntu.com/ubuntu bionic/main amd64 libtimedate-perl all 2.3000-2 [37.5 kB]\n",
            "Get:42 http://archive.ubuntu.com/ubuntu bionic/main amd64 libhttp-date-perl all 6.02-1 [10.4 kB]\n",
            "Get:43 http://archive.ubuntu.com/ubuntu bionic/main amd64 libfile-listing-perl all 6.04-1 [9,774 B]\n",
            "Get:44 http://archive.ubuntu.com/ubuntu bionic/universe amd64 libfltk1.3 amd64 1.3.4-6 [523 kB]\n",
            "Get:45 http://archive.ubuntu.com/ubuntu bionic/universe amd64 libfltk-gl1.3 amd64 1.3.4-6 [37.7 kB]\n",
            "Get:46 http://archive.ubuntu.com/ubuntu bionic/main amd64 libfont-afm-perl all 1.20-2 [13.2 kB]\n",
            "Get:47 http://archive.ubuntu.com/ubuntu bionic/universe amd64 libglpk40 amd64 4.65-1 [378 kB]\n",
            "Get:48 http://archive.ubuntu.com/ubuntu bionic/main amd64 libwmf0.2-7 amd64 0.2.8.4-12 [150 kB]\n",
            "Get:49 http://archive.ubuntu.com/ubuntu bionic-updates/universe amd64 libgraphicsmagick-q16-3 amd64 1.3.28-2ubuntu0.1 [1,116 kB]\n",
            "Get:50 http://archive.ubuntu.com/ubuntu bionic-updates/universe amd64 libgraphicsmagick++-q16-12 amd64 1.3.28-2ubuntu0.1 [102 kB]\n",
            "Get:51 http://archive.ubuntu.com/ubuntu bionic/main amd64 libhtml-tagset-perl all 3.20-3 [12.1 kB]\n",
            "Get:52 http://archive.ubuntu.com/ubuntu bionic/main amd64 liburi-perl all 1.73-1 [77.2 kB]\n",
            "Get:53 http://archive.ubuntu.com/ubuntu bionic/main amd64 libhtml-parser-perl amd64 3.72-3build1 [85.9 kB]\n",
            "Get:54 http://archive.ubuntu.com/ubuntu bionic/main amd64 libio-html-perl all 1.001-1 [14.9 kB]\n",
            "Get:55 http://archive.ubuntu.com/ubuntu bionic/main amd64 liblwp-mediatypes-perl all 6.02-1 [21.7 kB]\n",
            "Get:56 http://archive.ubuntu.com/ubuntu bionic/main amd64 libhttp-message-perl all 6.14-1 [72.1 kB]\n",
            "Get:57 http://archive.ubuntu.com/ubuntu bionic/main amd64 libhtml-form-perl all 6.03-1 [23.5 kB]\n",
            "Get:58 http://archive.ubuntu.com/ubuntu bionic/main amd64 libhtml-tree-perl all 5.07-1 [200 kB]\n",
            "Get:59 http://archive.ubuntu.com/ubuntu bionic/main amd64 libhtml-format-perl all 2.12-1 [41.3 kB]\n",
            "Get:60 http://archive.ubuntu.com/ubuntu bionic/main amd64 libhttp-cookies-perl all 6.04-1 [17.2 kB]\n",
            "Get:61 http://archive.ubuntu.com/ubuntu bionic/main amd64 libhttp-daemon-perl all 6.01-1 [17.0 kB]\n",
            "Get:62 http://archive.ubuntu.com/ubuntu bionic/main amd64 libhttp-negotiate-perl all 6.00-2 [13.4 kB]\n",
            "Get:63 http://archive.ubuntu.com/ubuntu bionic/main amd64 perl-openssl-defaults amd64 3build1 [7,012 B]\n",
            "Get:64 http://archive.ubuntu.com/ubuntu bionic-updates/main amd64 libnet-ssleay-perl amd64 1.84-1ubuntu0.2 [283 kB]\n",
            "Get:65 http://archive.ubuntu.com/ubuntu bionic-updates/main amd64 libio-socket-ssl-perl all 2.060-3~ubuntu18.04.1 [173 kB]\n",
            "Get:66 http://archive.ubuntu.com/ubuntu bionic/main amd64 libnet-http-perl all 6.17-1 [22.7 kB]\n",
            "Get:67 http://archive.ubuntu.com/ubuntu bionic/main amd64 libtry-tiny-perl all 0.30-1 [20.5 kB]\n",
            "Get:68 http://archive.ubuntu.com/ubuntu bionic/main amd64 libwww-robotrules-perl all 6.01-1 [14.1 kB]\n",
            "Get:69 http://archive.ubuntu.com/ubuntu bionic-updates/main amd64 libwww-perl all 6.31-1ubuntu0.1 [137 kB]\n",
            "Get:70 http://archive.ubuntu.com/ubuntu bionic/main amd64 liblwp-protocol-https-perl all 6.07-2 [8,284 B]\n",
            "Get:71 http://archive.ubuntu.com/ubuntu bionic-updates/main amd64 libmagick++-6.q16-7 amd64 8:6.9.7.4+dfsg-16ubuntu6.8 [139 kB]\n",
            "Get:72 http://archive.ubuntu.com/ubuntu bionic/main amd64 libnet-smtp-ssl-perl all 1.04-1 [5,948 B]\n",
            "Get:73 http://archive.ubuntu.com/ubuntu bionic/main amd64 libmailtools-perl all 2.18-1 [74.0 kB]\n",
            "Get:74 http://archive.ubuntu.com/ubuntu bionic/universe amd64 libqrupdate1 amd64 1.1.2-2build1 [36.5 kB]\n",
            "Get:75 http://archive.ubuntu.com/ubuntu bionic/main amd64 libumfpack5 amd64 1:5.1.2-2 [229 kB]\n",
            "Get:76 http://archive.ubuntu.com/ubuntu bionic/universe amd64 liboctave4 amd64 4.2.2-1ubuntu1 [6,736 kB]\n",
            "Get:77 http://archive.ubuntu.com/ubuntu bionic/universe amd64 libplot2c2 amd64 2.6-9 [502 kB]\n",
            "Get:78 http://archive.ubuntu.com/ubuntu bionic/universe amd64 libportaudio2 amd64 19.6.0-1 [64.6 kB]\n",
            "Get:79 http://archive.ubuntu.com/ubuntu bionic/universe amd64 libzip4 amd64 1.1.2-1.1 [37.8 kB]\n",
            "Get:80 http://archive.ubuntu.com/ubuntu bionic/universe amd64 libpstoedit0c2a amd64 3.70-5 [349 kB]\n",
            "Get:81 http://archive.ubuntu.com/ubuntu bionic/universe amd64 libqscintilla2-qt5-l10n all 2.10.2+dfsg-4 [39.7 kB]\n",
            "Get:82 http://archive.ubuntu.com/ubuntu bionic/universe amd64 libqscintilla2-qt5-13 amd64 2.10.2+dfsg-4 [1,030 kB]\n",
            "Get:83 http://archive.ubuntu.com/ubuntu bionic-updates/main amd64 libqt5opengl5 amd64 5.9.5+dfsg-0ubuntu2.4 [132 kB]\n",
            "Get:84 http://archive.ubuntu.com/ubuntu bionic/universe amd64 libtext-unidecode-perl all 1.30-1 [99.0 kB]\n",
            "Get:85 http://archive.ubuntu.com/ubuntu bionic/main amd64 libxml-namespacesupport-perl all 1.12-1 [13.2 kB]\n",
            "Get:86 http://archive.ubuntu.com/ubuntu bionic/main amd64 libxml-sax-base-perl all 1.09-1 [18.8 kB]\n",
            "Get:87 http://archive.ubuntu.com/ubuntu bionic/main amd64 libxml-sax-perl all 0.99+dfsg-2ubuntu1 [64.6 kB]\n",
            "Get:88 http://archive.ubuntu.com/ubuntu bionic/main amd64 libxml-libxml-perl amd64 2.0128+dfsg-5 [316 kB]\n",
            "Get:89 http://archive.ubuntu.com/ubuntu bionic/main amd64 libxml-parser-perl amd64 2.44-2build3 [199 kB]\n",
            "Get:90 http://archive.ubuntu.com/ubuntu bionic/main amd64 libxml-sax-expat-perl all 0.40-2 [11.5 kB]\n",
            "Get:91 http://archive.ubuntu.com/ubuntu bionic/main amd64 notification-daemon amd64 3.20.0-3 [36.9 kB]\n",
            "Get:92 http://archive.ubuntu.com/ubuntu bionic/universe amd64 pstoedit amd64 3.70-5 [102 kB]\n",
            "Get:93 http://archive.ubuntu.com/ubuntu bionic/universe amd64 texinfo amd64 6.5.0.dfsg.1-2 [752 kB]\n",
            "Get:94 http://archive.ubuntu.com/ubuntu bionic/main amd64 libauthen-sasl-perl all 2.1600-1 [48.7 kB]\n",
            "Get:95 http://archive.ubuntu.com/ubuntu bionic-updates/main amd64 libosmesa6 amd64 19.0.8-0ubuntu0~18.04.3 [2,269 kB]\n",
            "Get:96 http://archive.ubuntu.com/ubuntu bionic/universe amd64 octave-common all 4.2.2-1ubuntu1 [1,444 kB]\n",
            "Get:97 http://archive.ubuntu.com/ubuntu bionic/universe amd64 octave amd64 4.2.2-1ubuntu1 [1,583 kB]\n",
            "Get:98 http://archive.ubuntu.com/ubuntu bionic/universe amd64 octave-doc all 4.2.2-1ubuntu1 [6,836 kB]\n",
            "Fetched 51.2 MB in 10s (5,263 kB/s)\n",
            "Extracting templates from packages: 100%\n",
            "Selecting previously unselected package install-info.\n",
            "(Reading database ... 134985 files and directories currently installed.)\n",
            "Preparing to unpack .../install-info_6.5.0.dfsg.1-2_amd64.deb ...\n",
            "Unpacking install-info (6.5.0.dfsg.1-2) ...\n",
            "Setting up install-info (6.5.0.dfsg.1-2) ...\n",
            "Selecting previously unselected package fonts-droid-fallback.\n",
            "(Reading database ... 134998 files and directories currently installed.)\n",
            "Preparing to unpack .../00-fonts-droid-fallback_1%3a6.0.1r16-1.1_all.deb ...\n",
            "Unpacking fonts-droid-fallback (1:6.0.1r16-1.1) ...\n",
            "Selecting previously unselected package liblqr-1-0:amd64.\n",
            "Preparing to unpack .../01-liblqr-1-0_0.4.2-2.1_amd64.deb ...\n",
            "Unpacking liblqr-1-0:amd64 (0.4.2-2.1) ...\n",
            "Selecting previously unselected package imagemagick-6-common.\n",
            "Preparing to unpack .../02-imagemagick-6-common_8%3a6.9.7.4+dfsg-16ubuntu6.8_all.deb ...\n",
            "Unpacking imagemagick-6-common (8:6.9.7.4+dfsg-16ubuntu6.8) ...\n",
            "Selecting previously unselected package libmagickcore-6.q16-3:amd64.\n",
            "Preparing to unpack .../03-libmagickcore-6.q16-3_8%3a6.9.7.4+dfsg-16ubuntu6.8_amd64.deb ...\n",
            "Unpacking libmagickcore-6.q16-3:amd64 (8:6.9.7.4+dfsg-16ubuntu6.8) ...\n",
            "Selecting previously unselected package libmagickwand-6.q16-3:amd64.\n",
            "Preparing to unpack .../04-libmagickwand-6.q16-3_8%3a6.9.7.4+dfsg-16ubuntu6.8_amd64.deb ...\n",
            "Unpacking libmagickwand-6.q16-3:amd64 (8:6.9.7.4+dfsg-16ubuntu6.8) ...\n",
            "Selecting previously unselected package libqt5svg5:amd64.\n",
            "Preparing to unpack .../05-libqt5svg5_5.9.5-0ubuntu1_amd64.deb ...\n",
            "Unpacking libqt5svg5:amd64 (5.9.5-0ubuntu1) ...\n",
            "Selecting previously unselected package poppler-data.\n",
            "Preparing to unpack .../06-poppler-data_0.4.8-2_all.deb ...\n",
            "Unpacking poppler-data (0.4.8-2) ...\n",
            "Selecting previously unselected package tex-common.\n",
            "Preparing to unpack .../07-tex-common_6.09_all.deb ...\n",
            "Unpacking tex-common (6.09) ...\n",
            "Selecting previously unselected package netbase.\n",
            "Preparing to unpack .../08-netbase_5.4_all.deb ...\n",
            "Unpacking netbase (5.4) ...\n",
            "Selecting previously unselected package info.\n",
            "Preparing to unpack .../09-info_6.5.0.dfsg.1-2_amd64.deb ...\n",
            "Unpacking info (6.5.0.dfsg.1-2) ...\n",
            "Selecting previously unselected package libcupsimage2:amd64.\n",
            "Preparing to unpack .../10-libcupsimage2_2.2.7-1ubuntu2.7_amd64.deb ...\n",
            "Unpacking libcupsimage2:amd64 (2.2.7-1ubuntu2.7) ...\n",
            "Selecting previously unselected package libijs-0.35:amd64.\n",
            "Preparing to unpack .../11-libijs-0.35_0.35-13_amd64.deb ...\n",
            "Unpacking libijs-0.35:amd64 (0.35-13) ...\n",
            "Selecting previously unselected package libjbig2dec0:amd64.\n",
            "Preparing to unpack .../12-libjbig2dec0_0.13-6_amd64.deb ...\n",
            "Unpacking libjbig2dec0:amd64 (0.13-6) ...\n",
            "Selecting previously unselected package libgs9-common.\n",
            "Preparing to unpack .../13-libgs9-common_9.26~dfsg+0-0ubuntu0.18.04.12_all.deb ...\n",
            "Unpacking libgs9-common (9.26~dfsg+0-0ubuntu0.18.04.12) ...\n",
            "Selecting previously unselected package libgs9:amd64.\n",
            "Preparing to unpack .../14-libgs9_9.26~dfsg+0-0ubuntu0.18.04.12_amd64.deb ...\n",
            "Unpacking libgs9:amd64 (9.26~dfsg+0-0ubuntu0.18.04.12) ...\n",
            "Selecting previously unselected package ghostscript.\n",
            "Preparing to unpack .../15-ghostscript_9.26~dfsg+0-0ubuntu0.18.04.12_amd64.deb ...\n",
            "Unpacking ghostscript (9.26~dfsg+0-0ubuntu0.18.04.12) ...\n",
            "Selecting previously unselected package epstool.\n",
            "Preparing to unpack .../16-epstool_3.08+repack-7_amd64.deb ...\n",
            "Unpacking epstool (3.08+repack-7) ...\n",
            "Selecting previously unselected package fonts-noto-mono.\n",
            "Preparing to unpack .../17-fonts-noto-mono_20171026-2_all.deb ...\n",
            "Unpacking fonts-noto-mono (20171026-2) ...\n",
            "Selecting previously unselected package aglfn.\n",
            "Preparing to unpack .../18-aglfn_1.7-3_all.deb ...\n",
            "Unpacking aglfn (1.7-3) ...\n",
            "Selecting previously unselected package gnuplot-data.\n",
            "Preparing to unpack .../19-gnuplot-data_5.2.2+dfsg1-2ubuntu1_all.deb ...\n",
            "Unpacking gnuplot-data (5.2.2+dfsg1-2ubuntu1) ...\n",
            "Selecting previously unselected package liblua5.3-0:amd64.\n",
            "Preparing to unpack .../20-liblua5.3-0_5.3.3-1ubuntu0.18.04.1_amd64.deb ...\n",
            "Unpacking liblua5.3-0:amd64 (5.3.3-1ubuntu0.18.04.1) ...\n",
            "Selecting previously unselected package libwxbase3.0-0v5:amd64.\n",
            "Preparing to unpack .../21-libwxbase3.0-0v5_3.0.4+dfsg-3_amd64.deb ...\n",
            "Unpacking libwxbase3.0-0v5:amd64 (3.0.4+dfsg-3) ...\n",
            "Selecting previously unselected package libnotify4:amd64.\n",
            "Preparing to unpack .../22-libnotify4_0.7.7-3_amd64.deb ...\n",
            "Unpacking libnotify4:amd64 (0.7.7-3) ...\n",
            "Selecting previously unselected package libwxgtk3.0-0v5:amd64.\n",
            "Preparing to unpack .../23-libwxgtk3.0-0v5_3.0.4+dfsg-3_amd64.deb ...\n",
            "Unpacking libwxgtk3.0-0v5:amd64 (3.0.4+dfsg-3) ...\n",
            "Selecting previously unselected package gnuplot-qt.\n",
            "Preparing to unpack .../24-gnuplot-qt_5.2.2+dfsg1-2ubuntu1_amd64.deb ...\n",
            "Unpacking gnuplot-qt (5.2.2+dfsg1-2ubuntu1) ...\n",
            "Selecting previously unselected package gsfonts.\n",
            "Preparing to unpack .../25-gsfonts_1%3a8.11+urwcyr1.0.7~pre44-4.4_all.deb ...\n",
            "Unpacking gsfonts (1:8.11+urwcyr1.0.7~pre44-4.4) ...\n",
            "Selecting previously unselected package libsuitesparseconfig5:amd64.\n",
            "Preparing to unpack .../26-libsuitesparseconfig5_1%3a5.1.2-2_amd64.deb ...\n",
            "Unpacking libsuitesparseconfig5:amd64 (1:5.1.2-2) ...\n",
            "Selecting previously unselected package libamd2:amd64.\n",
            "Preparing to unpack .../27-libamd2_1%3a5.1.2-2_amd64.deb ...\n",
            "Unpacking libamd2:amd64 (1:5.1.2-2) ...\n",
            "Selecting previously unselected package libcamd2:amd64.\n",
            "Preparing to unpack .../28-libcamd2_1%3a5.1.2-2_amd64.deb ...\n",
            "Unpacking libcamd2:amd64 (1:5.1.2-2) ...\n",
            "Selecting previously unselected package libccolamd2:amd64.\n",
            "Preparing to unpack .../29-libccolamd2_1%3a5.1.2-2_amd64.deb ...\n",
            "Unpacking libccolamd2:amd64 (1:5.1.2-2) ...\n",
            "Selecting previously unselected package libcolamd2:amd64.\n",
            "Preparing to unpack .../30-libcolamd2_1%3a5.1.2-2_amd64.deb ...\n",
            "Unpacking libcolamd2:amd64 (1:5.1.2-2) ...\n",
            "Selecting previously unselected package libmetis5:amd64.\n",
            "Preparing to unpack .../31-libmetis5_5.1.0.dfsg-5_amd64.deb ...\n",
            "Unpacking libmetis5:amd64 (5.1.0.dfsg-5) ...\n",
            "Selecting previously unselected package libcholmod3:amd64.\n",
            "Preparing to unpack .../32-libcholmod3_1%3a5.1.2-2_amd64.deb ...\n",
            "Unpacking libcholmod3:amd64 (1:5.1.2-2) ...\n",
            "Selecting previously unselected package libcupsfilters1:amd64.\n",
            "Preparing to unpack .../33-libcupsfilters1_1.20.2-0ubuntu3.1_amd64.deb ...\n",
            "Unpacking libcupsfilters1:amd64 (1.20.2-0ubuntu3.1) ...\n",
            "Selecting previously unselected package libcxsparse3:amd64.\n",
            "Preparing to unpack .../34-libcxsparse3_1%3a5.1.2-2_amd64.deb ...\n",
            "Unpacking libcxsparse3:amd64 (1:5.1.2-2) ...\n",
            "Selecting previously unselected package libdata-dump-perl.\n",
            "Preparing to unpack .../35-libdata-dump-perl_1.23-1_all.deb ...\n",
            "Unpacking libdata-dump-perl (1.23-1) ...\n",
            "Selecting previously unselected package libemf1:amd64.\n",
            "Preparing to unpack .../36-libemf1_1.0.9+git.10.3231442-1_amd64.deb ...\n",
            "Unpacking libemf1:amd64 (1.0.9+git.10.3231442-1) ...\n",
            "Selecting previously unselected package libencode-locale-perl.\n",
            "Preparing to unpack .../37-libencode-locale-perl_1.05-1_all.deb ...\n",
            "Unpacking libencode-locale-perl (1.05-1) ...\n",
            "Selecting previously unselected package libfftw3-single3:amd64.\n",
            "Preparing to unpack .../38-libfftw3-single3_3.3.7-1_amd64.deb ...\n",
            "Unpacking libfftw3-single3:amd64 (3.3.7-1) ...\n",
            "Selecting previously unselected package libtimedate-perl.\n",
            "Preparing to unpack .../39-libtimedate-perl_2.3000-2_all.deb ...\n",
            "Unpacking libtimedate-perl (2.3000-2) ...\n",
            "Selecting previously unselected package libhttp-date-perl.\n",
            "Preparing to unpack .../40-libhttp-date-perl_6.02-1_all.deb ...\n",
            "Unpacking libhttp-date-perl (6.02-1) ...\n",
            "Selecting previously unselected package libfile-listing-perl.\n",
            "Preparing to unpack .../41-libfile-listing-perl_6.04-1_all.deb ...\n",
            "Unpacking libfile-listing-perl (6.04-1) ...\n",
            "Selecting previously unselected package libfltk1.3:amd64.\n",
            "Preparing to unpack .../42-libfltk1.3_1.3.4-6_amd64.deb ...\n",
            "Unpacking libfltk1.3:amd64 (1.3.4-6) ...\n",
            "Selecting previously unselected package libfltk-gl1.3:amd64.\n",
            "Preparing to unpack .../43-libfltk-gl1.3_1.3.4-6_amd64.deb ...\n",
            "Unpacking libfltk-gl1.3:amd64 (1.3.4-6) ...\n",
            "Selecting previously unselected package libfont-afm-perl.\n",
            "Preparing to unpack .../44-libfont-afm-perl_1.20-2_all.deb ...\n",
            "Unpacking libfont-afm-perl (1.20-2) ...\n",
            "Selecting previously unselected package libglpk40:amd64.\n",
            "Preparing to unpack .../45-libglpk40_4.65-1_amd64.deb ...\n",
            "Unpacking libglpk40:amd64 (4.65-1) ...\n",
            "Selecting previously unselected package libwmf0.2-7:amd64.\n",
            "Preparing to unpack .../46-libwmf0.2-7_0.2.8.4-12_amd64.deb ...\n",
            "Unpacking libwmf0.2-7:amd64 (0.2.8.4-12) ...\n",
            "Selecting previously unselected package libgraphicsmagick-q16-3.\n",
            "Preparing to unpack .../47-libgraphicsmagick-q16-3_1.3.28-2ubuntu0.1_amd64.deb ...\n",
            "Unpacking libgraphicsmagick-q16-3 (1.3.28-2ubuntu0.1) ...\n",
            "Selecting previously unselected package libgraphicsmagick++-q16-12.\n",
            "Preparing to unpack .../48-libgraphicsmagick++-q16-12_1.3.28-2ubuntu0.1_amd64.deb ...\n",
            "Unpacking libgraphicsmagick++-q16-12 (1.3.28-2ubuntu0.1) ...\n",
            "Selecting previously unselected package libhtml-tagset-perl.\n",
            "Preparing to unpack .../49-libhtml-tagset-perl_3.20-3_all.deb ...\n",
            "Unpacking libhtml-tagset-perl (3.20-3) ...\n",
            "Selecting previously unselected package liburi-perl.\n",
            "Preparing to unpack .../50-liburi-perl_1.73-1_all.deb ...\n",
            "Unpacking liburi-perl (1.73-1) ...\n",
            "Selecting previously unselected package libhtml-parser-perl.\n",
            "Preparing to unpack .../51-libhtml-parser-perl_3.72-3build1_amd64.deb ...\n",
            "Unpacking libhtml-parser-perl (3.72-3build1) ...\n",
            "Selecting previously unselected package libio-html-perl.\n",
            "Preparing to unpack .../52-libio-html-perl_1.001-1_all.deb ...\n",
            "Unpacking libio-html-perl (1.001-1) ...\n",
            "Selecting previously unselected package liblwp-mediatypes-perl.\n",
            "Preparing to unpack .../53-liblwp-mediatypes-perl_6.02-1_all.deb ...\n",
            "Unpacking liblwp-mediatypes-perl (6.02-1) ...\n",
            "Selecting previously unselected package libhttp-message-perl.\n",
            "Preparing to unpack .../54-libhttp-message-perl_6.14-1_all.deb ...\n",
            "Unpacking libhttp-message-perl (6.14-1) ...\n",
            "Selecting previously unselected package libhtml-form-perl.\n",
            "Preparing to unpack .../55-libhtml-form-perl_6.03-1_all.deb ...\n",
            "Unpacking libhtml-form-perl (6.03-1) ...\n",
            "Selecting previously unselected package libhtml-tree-perl.\n",
            "Preparing to unpack .../56-libhtml-tree-perl_5.07-1_all.deb ...\n",
            "Unpacking libhtml-tree-perl (5.07-1) ...\n",
            "Selecting previously unselected package libhtml-format-perl.\n",
            "Preparing to unpack .../57-libhtml-format-perl_2.12-1_all.deb ...\n",
            "Unpacking libhtml-format-perl (2.12-1) ...\n",
            "Selecting previously unselected package libhttp-cookies-perl.\n",
            "Preparing to unpack .../58-libhttp-cookies-perl_6.04-1_all.deb ...\n",
            "Unpacking libhttp-cookies-perl (6.04-1) ...\n",
            "Selecting previously unselected package libhttp-daemon-perl.\n",
            "Preparing to unpack .../59-libhttp-daemon-perl_6.01-1_all.deb ...\n",
            "Unpacking libhttp-daemon-perl (6.01-1) ...\n",
            "Selecting previously unselected package libhttp-negotiate-perl.\n",
            "Preparing to unpack .../60-libhttp-negotiate-perl_6.00-2_all.deb ...\n",
            "Unpacking libhttp-negotiate-perl (6.00-2) ...\n",
            "Selecting previously unselected package perl-openssl-defaults:amd64.\n",
            "Preparing to unpack .../61-perl-openssl-defaults_3build1_amd64.deb ...\n",
            "Unpacking perl-openssl-defaults:amd64 (3build1) ...\n",
            "Selecting previously unselected package libnet-ssleay-perl.\n",
            "Preparing to unpack .../62-libnet-ssleay-perl_1.84-1ubuntu0.2_amd64.deb ...\n",
            "Unpacking libnet-ssleay-perl (1.84-1ubuntu0.2) ...\n",
            "Selecting previously unselected package libio-socket-ssl-perl.\n",
            "Preparing to unpack .../63-libio-socket-ssl-perl_2.060-3~ubuntu18.04.1_all.deb ...\n",
            "Unpacking libio-socket-ssl-perl (2.060-3~ubuntu18.04.1) ...\n",
            "Selecting previously unselected package libnet-http-perl.\n",
            "Preparing to unpack .../64-libnet-http-perl_6.17-1_all.deb ...\n",
            "Unpacking libnet-http-perl (6.17-1) ...\n",
            "Selecting previously unselected package libtry-tiny-perl.\n",
            "Preparing to unpack .../65-libtry-tiny-perl_0.30-1_all.deb ...\n",
            "Unpacking libtry-tiny-perl (0.30-1) ...\n",
            "Selecting previously unselected package libwww-robotrules-perl.\n",
            "Preparing to unpack .../66-libwww-robotrules-perl_6.01-1_all.deb ...\n",
            "Unpacking libwww-robotrules-perl (6.01-1) ...\n",
            "Selecting previously unselected package libwww-perl.\n",
            "Preparing to unpack .../67-libwww-perl_6.31-1ubuntu0.1_all.deb ...\n",
            "Unpacking libwww-perl (6.31-1ubuntu0.1) ...\n",
            "Selecting previously unselected package liblwp-protocol-https-perl.\n",
            "Preparing to unpack .../68-liblwp-protocol-https-perl_6.07-2_all.deb ...\n",
            "Unpacking liblwp-protocol-https-perl (6.07-2) ...\n",
            "Selecting previously unselected package libmagick++-6.q16-7:amd64.\n",
            "Preparing to unpack .../69-libmagick++-6.q16-7_8%3a6.9.7.4+dfsg-16ubuntu6.8_amd64.deb ...\n",
            "Unpacking libmagick++-6.q16-7:amd64 (8:6.9.7.4+dfsg-16ubuntu6.8) ...\n",
            "Selecting previously unselected package libnet-smtp-ssl-perl.\n",
            "Preparing to unpack .../70-libnet-smtp-ssl-perl_1.04-1_all.deb ...\n",
            "Unpacking libnet-smtp-ssl-perl (1.04-1) ...\n",
            "Selecting previously unselected package libmailtools-perl.\n",
            "Preparing to unpack .../71-libmailtools-perl_2.18-1_all.deb ...\n",
            "Unpacking libmailtools-perl (2.18-1) ...\n",
            "Selecting previously unselected package libqrupdate1:amd64.\n",
            "Preparing to unpack .../72-libqrupdate1_1.1.2-2build1_amd64.deb ...\n",
            "Unpacking libqrupdate1:amd64 (1.1.2-2build1) ...\n",
            "Selecting previously unselected package libumfpack5:amd64.\n",
            "Preparing to unpack .../73-libumfpack5_1%3a5.1.2-2_amd64.deb ...\n",
            "Unpacking libumfpack5:amd64 (1:5.1.2-2) ...\n",
            "Selecting previously unselected package liboctave4:amd64.\n",
            "Preparing to unpack .../74-liboctave4_4.2.2-1ubuntu1_amd64.deb ...\n",
            "Unpacking liboctave4:amd64 (4.2.2-1ubuntu1) ...\n",
            "Selecting previously unselected package libplot2c2:amd64.\n",
            "Preparing to unpack .../75-libplot2c2_2.6-9_amd64.deb ...\n",
            "Unpacking libplot2c2:amd64 (2.6-9) ...\n",
            "Selecting previously unselected package libportaudio2:amd64.\n",
            "Preparing to unpack .../76-libportaudio2_19.6.0-1_amd64.deb ...\n",
            "Unpacking libportaudio2:amd64 (19.6.0-1) ...\n",
            "Selecting previously unselected package libzip4:amd64.\n",
            "Preparing to unpack .../77-libzip4_1.1.2-1.1_amd64.deb ...\n",
            "Unpacking libzip4:amd64 (1.1.2-1.1) ...\n",
            "Selecting previously unselected package libpstoedit0c2a.\n",
            "Preparing to unpack .../78-libpstoedit0c2a_3.70-5_amd64.deb ...\n",
            "Unpacking libpstoedit0c2a (3.70-5) ...\n",
            "Selecting previously unselected package libqscintilla2-qt5-l10n.\n",
            "Preparing to unpack .../79-libqscintilla2-qt5-l10n_2.10.2+dfsg-4_all.deb ...\n",
            "Unpacking libqscintilla2-qt5-l10n (2.10.2+dfsg-4) ...\n",
            "Selecting previously unselected package libqscintilla2-qt5-13.\n",
            "Preparing to unpack .../80-libqscintilla2-qt5-13_2.10.2+dfsg-4_amd64.deb ...\n",
            "Unpacking libqscintilla2-qt5-13 (2.10.2+dfsg-4) ...\n",
            "Selecting previously unselected package libqt5opengl5:amd64.\n",
            "Preparing to unpack .../81-libqt5opengl5_5.9.5+dfsg-0ubuntu2.4_amd64.deb ...\n",
            "Unpacking libqt5opengl5:amd64 (5.9.5+dfsg-0ubuntu2.4) ...\n",
            "Selecting previously unselected package libtext-unidecode-perl.\n",
            "Preparing to unpack .../82-libtext-unidecode-perl_1.30-1_all.deb ...\n",
            "Unpacking libtext-unidecode-perl (1.30-1) ...\n",
            "Selecting previously unselected package libxml-namespacesupport-perl.\n",
            "Preparing to unpack .../83-libxml-namespacesupport-perl_1.12-1_all.deb ...\n",
            "Unpacking libxml-namespacesupport-perl (1.12-1) ...\n",
            "Selecting previously unselected package libxml-sax-base-perl.\n",
            "Preparing to unpack .../84-libxml-sax-base-perl_1.09-1_all.deb ...\n",
            "Unpacking libxml-sax-base-perl (1.09-1) ...\n",
            "Selecting previously unselected package libxml-sax-perl.\n",
            "Preparing to unpack .../85-libxml-sax-perl_0.99+dfsg-2ubuntu1_all.deb ...\n",
            "Unpacking libxml-sax-perl (0.99+dfsg-2ubuntu1) ...\n",
            "Selecting previously unselected package libxml-libxml-perl.\n",
            "Preparing to unpack .../86-libxml-libxml-perl_2.0128+dfsg-5_amd64.deb ...\n",
            "Unpacking libxml-libxml-perl (2.0128+dfsg-5) ...\n",
            "Selecting previously unselected package libxml-parser-perl.\n",
            "Preparing to unpack .../87-libxml-parser-perl_2.44-2build3_amd64.deb ...\n",
            "Unpacking libxml-parser-perl (2.44-2build3) ...\n",
            "Selecting previously unselected package libxml-sax-expat-perl.\n",
            "Preparing to unpack .../88-libxml-sax-expat-perl_0.40-2_all.deb ...\n",
            "Unpacking libxml-sax-expat-perl (0.40-2) ...\n",
            "Selecting previously unselected package notification-daemon.\n",
            "Preparing to unpack .../89-notification-daemon_3.20.0-3_amd64.deb ...\n",
            "Unpacking notification-daemon (3.20.0-3) ...\n",
            "Selecting previously unselected package pstoedit.\n",
            "Preparing to unpack .../90-pstoedit_3.70-5_amd64.deb ...\n",
            "Unpacking pstoedit (3.70-5) ...\n",
            "Selecting previously unselected package texinfo.\n",
            "Preparing to unpack .../91-texinfo_6.5.0.dfsg.1-2_amd64.deb ...\n",
            "Unpacking texinfo (6.5.0.dfsg.1-2) ...\n",
            "Selecting previously unselected package libauthen-sasl-perl.\n",
            "Preparing to unpack .../92-libauthen-sasl-perl_2.1600-1_all.deb ...\n",
            "Unpacking libauthen-sasl-perl (2.1600-1) ...\n",
            "Selecting previously unselected package libosmesa6:amd64.\n",
            "Preparing to unpack .../93-libosmesa6_19.0.8-0ubuntu0~18.04.3_amd64.deb ...\n",
            "Unpacking libosmesa6:amd64 (19.0.8-0ubuntu0~18.04.3) ...\n",
            "Selecting previously unselected package octave-common.\n",
            "Preparing to unpack .../94-octave-common_4.2.2-1ubuntu1_all.deb ...\n",
            "Unpacking octave-common (4.2.2-1ubuntu1) ...\n",
            "Selecting previously unselected package octave.\n",
            "Preparing to unpack .../95-octave_4.2.2-1ubuntu1_amd64.deb ...\n",
            "Unpacking octave (4.2.2-1ubuntu1) ...\n",
            "Selecting previously unselected package octave-doc.\n",
            "Preparing to unpack .../96-octave-doc_4.2.2-1ubuntu1_all.deb ...\n",
            "Unpacking octave-doc (4.2.2-1ubuntu1) ...\n",
            "Setting up libgs9-common (9.26~dfsg+0-0ubuntu0.18.04.12) ...\n",
            "Setting up libhtml-tagset-perl (3.20-3) ...\n",
            "Setting up imagemagick-6-common (8:6.9.7.4+dfsg-16ubuntu6.8) ...\n",
            "Setting up libnotify4:amd64 (0.7.7-3) ...\n",
            "Setting up libcxsparse3:amd64 (1:5.1.2-2) ...\n",
            "Setting up libtry-tiny-perl (0.30-1) ...\n",
            "Setting up fonts-droid-fallback (1:6.0.1r16-1.1) ...\n",
            "Setting up libfont-afm-perl (1.20-2) ...\n",
            "Setting up info (6.5.0.dfsg.1-2) ...\n",
            "update-alternatives: using /usr/bin/info to provide /usr/bin/infobrowser (infobrowser) in auto mode\n",
            "Setting up libportaudio2:amd64 (19.6.0-1) ...\n",
            "Setting up tex-common (6.09) ...\n",
            "update-language: texlive-base not installed and configured, doing nothing!\n",
            "Setting up libxml-namespacesupport-perl (1.12-1) ...\n",
            "Setting up gsfonts (1:8.11+urwcyr1.0.7~pre44-4.4) ...\n",
            "Setting up libencode-locale-perl (1.05-1) ...\n",
            "Setting up libtimedate-perl (2.3000-2) ...\n",
            "Setting up poppler-data (0.4.8-2) ...\n",
            "Setting up perl-openssl-defaults:amd64 (3build1) ...\n",
            "Setting up libosmesa6:amd64 (19.0.8-0ubuntu0~18.04.3) ...\n",
            "Setting up libio-html-perl (1.001-1) ...\n",
            "Setting up libtext-unidecode-perl (1.30-1) ...\n",
            "Setting up libqt5opengl5:amd64 (5.9.5+dfsg-0ubuntu2.4) ...\n",
            "Setting up fonts-noto-mono (20171026-2) ...\n",
            "Setting up libwxbase3.0-0v5:amd64 (3.0.4+dfsg-3) ...\n",
            "Setting up libqrupdate1:amd64 (1.1.2-2build1) ...\n",
            "Setting up libcupsfilters1:amd64 (1.20.2-0ubuntu3.1) ...\n",
            "Setting up libzip4:amd64 (1.1.2-1.1) ...\n",
            "Setting up libcupsimage2:amd64 (2.2.7-1ubuntu2.7) ...\n",
            "Setting up libxml-sax-base-perl (1.09-1) ...\n",
            "Setting up liblqr-1-0:amd64 (0.4.2-2.1) ...\n",
            "Setting up libjbig2dec0:amd64 (0.13-6) ...\n",
            "Setting up liblwp-mediatypes-perl (6.02-1) ...\n",
            "Setting up liburi-perl (1.73-1) ...\n",
            "Setting up libqt5svg5:amd64 (5.9.5-0ubuntu1) ...\n",
            "Setting up libsuitesparseconfig5:amd64 (1:5.1.2-2) ...\n",
            "Setting up libmetis5:amd64 (5.1.0.dfsg-5) ...\n",
            "Setting up libdata-dump-perl (1.23-1) ...\n",
            "Setting up libhtml-parser-perl (3.72-3build1) ...\n",
            "Setting up libijs-0.35:amd64 (0.35-13) ...\n",
            "Setting up libcolamd2:amd64 (1:5.1.2-2) ...\n",
            "Setting up libfltk1.3:amd64 (1.3.4-6) ...\n",
            "Setting up libccolamd2:amd64 (1:5.1.2-2) ...\n",
            "Setting up libfftw3-single3:amd64 (3.3.7-1) ...\n",
            "Setting up octave-common (4.2.2-1ubuntu1) ...\n",
            "Setting up libnet-http-perl (6.17-1) ...\n",
            "Setting up libqscintilla2-qt5-l10n (2.10.2+dfsg-4) ...\n",
            "Setting up libemf1:amd64 (1.0.9+git.10.3231442-1) ...\n",
            "Setting up aglfn (1.7-3) ...\n",
            "Setting up libplot2c2:amd64 (2.6-9) ...\n",
            "Setting up liblua5.3-0:amd64 (5.3.3-1ubuntu0.18.04.1) ...\n",
            "Setting up libgs9:amd64 (9.26~dfsg+0-0ubuntu0.18.04.12) ...\n",
            "Setting up libwmf0.2-7:amd64 (0.2.8.4-12) ...\n",
            "Setting up libwww-robotrules-perl (6.01-1) ...\n",
            "Setting up libauthen-sasl-perl (2.1600-1) ...\n",
            "Setting up notification-daemon (3.20.0-3) ...\n",
            "Setting up octave-doc (4.2.2-1ubuntu1) ...\n",
            "Setting up netbase (5.4) ...\n",
            "Setting up libxml-sax-perl (0.99+dfsg-2ubuntu1) ...\n",
            "update-perl-sax-parsers: Registering Perl SAX parser XML::SAX::PurePerl with priority 10...\n",
            "update-perl-sax-parsers: Updating overall Perl SAX parser modules info file...\n",
            "\n",
            "Creating config file /etc/perl/XML/SAX/ParserDetails.ini with new version\n",
            "Setting up libhttp-date-perl (6.02-1) ...\n",
            "Setting up libmagickcore-6.q16-3:amd64 (8:6.9.7.4+dfsg-16ubuntu6.8) ...\n",
            "Setting up libnet-ssleay-perl (1.84-1ubuntu0.2) ...\n",
            "Setting up libfltk-gl1.3:amd64 (1.3.4-6) ...\n",
            "Setting up libcamd2:amd64 (1:5.1.2-2) ...\n",
            "Setting up libqscintilla2-qt5-13 (2.10.2+dfsg-4) ...\n",
            "Setting up libwxgtk3.0-0v5:amd64 (3.0.4+dfsg-3) ...\n",
            "Setting up ghostscript (9.26~dfsg+0-0ubuntu0.18.04.12) ...\n",
            "Setting up gnuplot-data (5.2.2+dfsg1-2ubuntu1) ...\n",
            "Setting up libio-socket-ssl-perl (2.060-3~ubuntu18.04.1) ...\n",
            "Setting up libgraphicsmagick-q16-3 (1.3.28-2ubuntu0.1) ...\n",
            "Setting up libhtml-tree-perl (5.07-1) ...\n",
            "Setting up libamd2:amd64 (1:5.1.2-2) ...\n",
            "Setting up libmagickwand-6.q16-3:amd64 (8:6.9.7.4+dfsg-16ubuntu6.8) ...\n",
            "Setting up libfile-listing-perl (6.04-1) ...\n",
            "Setting up libhttp-message-perl (6.14-1) ...\n",
            "Setting up libxml-libxml-perl (2.0128+dfsg-5) ...\n",
            "update-perl-sax-parsers: Registering Perl SAX parser XML::LibXML::SAX::Parser with priority 50...\n",
            "update-perl-sax-parsers: Registering Perl SAX parser XML::LibXML::SAX with priority 50...\n",
            "update-perl-sax-parsers: Updating overall Perl SAX parser modules info file...\n",
            "Replacing config file /etc/perl/XML/SAX/ParserDetails.ini with new version\n",
            "Setting up libhttp-negotiate-perl (6.00-2) ...\n",
            "Setting up libgraphicsmagick++-q16-12 (1.3.28-2ubuntu0.1) ...\n",
            "Setting up libnet-smtp-ssl-perl (1.04-1) ...\n",
            "Setting up libhtml-format-perl (2.12-1) ...\n",
            "Setting up libglpk40:amd64 (4.65-1) ...\n",
            "Setting up libhttp-cookies-perl (6.04-1) ...\n",
            "Setting up gnuplot-qt (5.2.2+dfsg1-2ubuntu1) ...\n",
            "update-alternatives: using /usr/bin/gnuplot-qt to provide /usr/bin/gnuplot (gnuplot) in auto mode\n",
            "Setting up epstool (3.08+repack-7) ...\n",
            "Setting up libhttp-daemon-perl (6.01-1) ...\n",
            "Setting up libcholmod3:amd64 (1:5.1.2-2) ...\n",
            "Setting up libmagick++-6.q16-7:amd64 (8:6.9.7.4+dfsg-16ubuntu6.8) ...\n",
            "Setting up libpstoedit0c2a (3.70-5) ...\n",
            "Setting up libhtml-form-perl (6.03-1) ...\n",
            "Setting up texinfo (6.5.0.dfsg.1-2) ...\n",
            "Setting up libmailtools-perl (2.18-1) ...\n",
            "Setting up libumfpack5:amd64 (1:5.1.2-2) ...\n",
            "Setting up pstoedit (3.70-5) ...\n",
            "Setting up liboctave4:amd64 (4.2.2-1ubuntu1) ...\n",
            "Setting up octave (4.2.2-1ubuntu1) ...\n",
            "Setting up liblwp-protocol-https-perl (6.07-2) ...\n",
            "Setting up libwww-perl (6.31-1ubuntu0.1) ...\n",
            "Setting up libxml-parser-perl (2.44-2build3) ...\n",
            "Setting up libxml-sax-expat-perl (0.40-2) ...\n",
            "update-perl-sax-parsers: Registering Perl SAX parser XML::SAX::Expat with priority 50...\n",
            "update-perl-sax-parsers: Updating overall Perl SAX parser modules info file...\n",
            "Replacing config file /etc/perl/XML/SAX/ParserDetails.ini with new version\n",
            "Processing triggers for fontconfig (2.12.6-0ubuntu2) ...\n",
            "Processing triggers for mime-support (3.60ubuntu1) ...\n",
            "Processing triggers for install-info (6.5.0.dfsg.1-2) ...\n",
            "Processing triggers for libc-bin (2.27-3ubuntu1) ...\n",
            "Processing triggers for man-db (2.8.3-2ubuntu0.1) ...\n",
            "Processing triggers for hicolor-icon-theme (0.17-2) ...\n"
          ],
          "name": "stdout"
        }
      ]
    },
    {
      "cell_type": "code",
      "metadata": {
        "id": "uIL2brhaZYJ5",
        "colab_type": "code",
        "colab": {}
      },
      "source": [
        "import csv\n",
        "import numpy as np\n",
        "import pandas as pd\n",
        "import scipy.io as sio\n",
        "import matplotlib.pyplot as plt\n",
        "\n",
        "from sklearn.model_selection import GridSearchCV, PredefinedSplit\n",
        "from sklearn.svm import SVC, LinearSVC\n",
        "\n",
        "%matplotlib inline"
      ],
      "execution_count": 0,
      "outputs": []
    },
    {
      "cell_type": "code",
      "metadata": {
        "id": "Va-jayegZfEJ",
        "colab_type": "code",
        "colab": {}
      },
      "source": [
        "def plot_data(X, y):\n",
        "    '''Plots examples X and their class y in a 2D scatter plot.\n",
        "    \n",
        "    X must be an array of shape (m,2)\n",
        "    y must be an array of shape (m,)\n",
        "    '''\n",
        "    \n",
        "    plt.plot(X[y == 0,0], X[y == 0,1], 'yo', label='neg')\n",
        "    plt.plot(X[y == 1,0], X[y == 1,1], 'b+', label='pos')\n",
        "    plt.xlabel('x1')\n",
        "    plt.ylabel('x2')\n",
        "    plt.legend(loc='lower left')\n",
        "    \n",
        "def plot_boundary(X, clf, level=0.0):\n",
        "    '''Plots a decision boundary using trained classifier clf.\n",
        "    \n",
        "    The decision boundary is drawn at given level (default=0.0)\n",
        "    in the range of X. X must be an array of shape (m,2).\n",
        "    '''\n",
        "    \n",
        "    x1_min, x1_max = X[:, 0].min(), X[:, 0].max()\n",
        "    x2_min, x2_max = X[:, 1].min(), X[:, 1].max()\n",
        "\n",
        "    h = 0.01 # grid step size\n",
        "    grid_x1, grid_x2 = np.meshgrid(np.arange(x1_min, x1_max, h),\n",
        "                                   np.arange(x2_min, x2_max, h))\n",
        "    \n",
        "    grid_y = clf.predict(np.c_[grid_x1.ravel(), grid_x2.ravel()])\n",
        "    grid_y = grid_y.reshape(grid_x1.shape)\n",
        "\n",
        "    x1_extra = (x1_max - x1_min) / 50\n",
        "    x2_extra = (x2_max - x2_min) / 50\n",
        "    \n",
        "    plt.xlim(x1_min - x1_extra, x1_max + x1_extra)\n",
        "    plt.ylim(x2_min - x2_extra, x2_max + x2_extra)\n",
        "    \n",
        "    plt.contour(grid_x1, grid_x2, grid_y, levels=[level])\n",
        "    \n",
        "def plot_support_vectors(clf):\n",
        "    '''Plot the support vectors from trained support vector classifier clf.\n",
        "    \n",
        "    Only the support vectors of the first two classes are drawn.\n",
        "    '''\n",
        "    \n",
        "    # Obtain support vectors for first two classes\n",
        "    sv_neg, sv_pos = np.vsplit(clf.support_vectors_, np.cumsum(clf.n_support_)[0:1])\n",
        "\n",
        "    # Plot support vectors\n",
        "    plt.plot(sv_neg[:,0], sv_neg[:,1], 'r+', label='neg SVs', alpha=0.5)\n",
        "    plt.plot(sv_pos[:,0], sv_pos[:,1], 'rx', label='pos SVs', alpha=0.5)\n",
        "    plt.legend()"
      ],
      "execution_count": 0,
      "outputs": []
    },
    {
      "cell_type": "markdown",
      "metadata": {
        "id": "8i4E9q2qayNC",
        "colab_type": "text"
      },
      "source": [
        "**Spam classification**"
      ]
    },
    {
      "cell_type": "code",
      "metadata": {
        "id": "llVCxIN7axDS",
        "colab_type": "code",
        "colab": {
          "base_uri": "https://localhost:8080/",
          "height": 357
        },
        "outputId": "fb23bf1f-b03d-493e-9ff1-8e047720ab03"
      },
      "source": [
        "!wget https://github.com/krasserm/machine-learning-notebooks/blob/master/data/ml-ex6/ex6data1.mat?raw=true"
      ],
      "execution_count": 32,
      "outputs": [
        {
          "output_type": "stream",
          "text": [
            "--2019-12-15 16:48:42--  https://github.com/krasserm/machine-learning-notebooks/blob/master/data/ml-ex6/ex6data1.mat?raw=true\n",
            "Resolving github.com (github.com)... 192.30.255.112\n",
            "Connecting to github.com (github.com)|192.30.255.112|:443... connected.\n",
            "HTTP request sent, awaiting response... 302 Found\n",
            "Location: https://github.com/krasserm/machine-learning-notebooks/raw/master/data/ml-ex6/ex6data1.mat [following]\n",
            "--2019-12-15 16:48:42--  https://github.com/krasserm/machine-learning-notebooks/raw/master/data/ml-ex6/ex6data1.mat\n",
            "Reusing existing connection to github.com:443.\n",
            "HTTP request sent, awaiting response... 302 Found\n",
            "Location: https://raw.githubusercontent.com/krasserm/machine-learning-notebooks/master/data/ml-ex6/ex6data1.mat [following]\n",
            "--2019-12-15 16:48:43--  https://raw.githubusercontent.com/krasserm/machine-learning-notebooks/master/data/ml-ex6/ex6data1.mat\n",
            "Resolving raw.githubusercontent.com (raw.githubusercontent.com)... 151.101.0.133, 151.101.64.133, 151.101.128.133, ...\n",
            "Connecting to raw.githubusercontent.com (raw.githubusercontent.com)|151.101.0.133|:443... connected.\n",
            "HTTP request sent, awaiting response... 200 OK\n",
            "Length: 981 [application/octet-stream]\n",
            "Saving to: ‘ex6data1.mat?raw=true’\n",
            "\n",
            "\rex6data1.mat?raw=tr   0%[                    ]       0  --.-KB/s               \rex6data1.mat?raw=tr 100%[===================>]     981  --.-KB/s    in 0s      \n",
            "\n",
            "2019-12-15 16:48:43 (167 MB/s) - ‘ex6data1.mat?raw=true’ saved [981/981]\n",
            "\n"
          ],
          "name": "stdout"
        }
      ]
    },
    {
      "cell_type": "code",
      "metadata": {
        "id": "0ciAGj2AcRpB",
        "colab_type": "code",
        "colab": {
          "base_uri": "https://localhost:8080/",
          "height": 34
        },
        "outputId": "ec93601d-9666-4ba5-873b-2ff9af0b5f98"
      },
      "source": [
        "# rename the file\n",
        "!mv ex6data1.mat?raw=true data.mat\n",
        "# update scipy\n",
        "!pip install -U -q scipy\n",
        "# Load the data\n",
        "from scipy import io\n",
        "data = io.loadmat('data.mat')"
      ],
      "execution_count": 34,
      "outputs": [
        {
          "output_type": "stream",
          "text": [
            "mv: cannot stat 'ex6data1.mat?raw=true': No such file or directory\n"
          ],
          "name": "stdout"
        }
      ]
    },
    {
      "cell_type": "code",
      "metadata": {
        "id": "KgOW2Zhdd7QC",
        "colab_type": "code",
        "colab": {}
      },
      "source": [
        "# Examples with features x1 and x2\n",
        "X = data['X']\n",
        "# Examples target class (0=neg, 1=pos)\n",
        "y = data['y'].ravel()"
      ],
      "execution_count": 0,
      "outputs": []
    },
    {
      "cell_type": "code",
      "metadata": {
        "id": "bxBkbtaVeBbq",
        "colab_type": "code",
        "colab": {
          "base_uri": "https://localhost:8080/",
          "height": 279
        },
        "outputId": "67679c2f-430d-413d-fd09-b15e9764ef40"
      },
      "source": [
        "plot_data(X,y)"
      ],
      "execution_count": 37,
      "outputs": [
        {
          "output_type": "display_data",
          "data": {
            "image/png": "[encoded data removed]",
            "text/plain": [
              "<Figure size 432x288 with 1 Axes>"
            ]
          },
          "metadata": {
            "tags": []
          }
        }
      ]
    },
    {
      "cell_type": "code",
      "metadata": {
        "id": "LvTuwmF5eK6R",
        "colab_type": "code",
        "colab": {
          "base_uri": "https://localhost:8080/",
          "height": 85
        },
        "outputId": "02454c3c-63e8-4f0a-dd1c-296628d080c8"
      },
      "source": [
        "# Train a support vector classifier with C=1 using a linear kernel.\n",
        "# SVC uses libsvm. For scaling to a large number of examples consider\n",
        "# using LinearSVC which uses liblinear instead (see docs for details).\n",
        "clf = SVC(C=1, kernel='linear') \n",
        "clf.fit(X, y)"
      ],
      "execution_count": 38,
      "outputs": [
        {
          "output_type": "execute_result",
          "data": {
            "text/plain": [
              "SVC(C=1, cache_size=200, class_weight=None, coef0=0.0,\n",
              "    decision_function_shape='ovr', degree=3, gamma='auto_deprecated',\n",
              "    kernel='linear', max_iter=-1, probability=False, random_state=None,\n",
              "    shrinking=True, tol=0.001, verbose=False)"
            ]
          },
          "metadata": {
            "tags": []
          },
          "execution_count": 38
        }
      ]
    },
    {
      "cell_type": "code",
      "metadata": {
        "id": "gMDzJmzOeOTq",
        "colab_type": "code",
        "colab": {
          "base_uri": "https://localhost:8080/",
          "height": 312
        },
        "outputId": "a17b0e93-19b8-4211-d2a2-ea0816051254"
      },
      "source": [
        "plot_data(X, y)\n",
        "plot_boundary(X, clf)\n",
        "plot_support_vectors(clf)\n",
        "plt.title('C=1')\n",
        "plt.show()"
      ],
      "execution_count": 40,
      "outputs": [
        {
          "output_type": "stream",
          "text": [
            "/usr/local/lib/python3.6/dist-packages/ipykernel_launcher.py:37: UserWarning: No contour levels were found within the data range.\n"
          ],
          "name": "stderr"
        },
        {
          "output_type": "display_data",
          "data": {
            "image/png": "[encoded data removed]",
            "text/plain": [
              "<Figure size 432x288 with 1 Axes>"
            ]
          },
          "metadata": {
            "tags": []
          }
        }
      ]
    },
    {
      "cell_type": "code",
      "metadata": {
        "id": "JahGtetseSWq",
        "colab_type": "code",
        "colab": {
          "base_uri": "https://localhost:8080/",
          "height": 85
        },
        "outputId": "5deefaff-39ec-434d-a74b-41a2b13c9a74"
      },
      "source": [
        "clf = SVC(C=100, kernel='linear')\n",
        "clf.fit(X, y)"
      ],
      "execution_count": 41,
      "outputs": [
        {
          "output_type": "execute_result",
          "data": {
            "text/plain": [
              "SVC(C=100, cache_size=200, class_weight=None, coef0=0.0,\n",
              "    decision_function_shape='ovr', degree=3, gamma='auto_deprecated',\n",
              "    kernel='linear', max_iter=-1, probability=False, random_state=None,\n",
              "    shrinking=True, tol=0.001, verbose=False)"
            ]
          },
          "metadata": {
            "tags": []
          },
          "execution_count": 41
        }
      ]
    },
    {
      "cell_type": "code",
      "metadata": {
        "id": "c8jsgcw1eXlT",
        "colab_type": "code",
        "colab": {
          "base_uri": "https://localhost:8080/",
          "height": 329
        },
        "outputId": "b7206474-9405-4039-b14d-1c2cad96d044"
      },
      "source": [
        "plot_data(X, y)\n",
        "plot_boundary(X, clf)\n",
        "plot_support_vectors(clf)\n",
        "plt.title('C=100')"
      ],
      "execution_count": 42,
      "outputs": [
        {
          "output_type": "stream",
          "text": [
            "/usr/local/lib/python3.6/dist-packages/ipykernel_launcher.py:37: UserWarning: No contour levels were found within the data range.\n"
          ],
          "name": "stderr"
        },
        {
          "output_type": "execute_result",
          "data": {
            "text/plain": [
              "Text(0.5, 1.0, 'C=100')"
            ]
          },
          "metadata": {
            "tags": []
          },
          "execution_count": 42
        },
        {
          "output_type": "display_data",
          "data": {
            "image/png": "[encoded data removed]",
            "text/plain": [
              "<Figure size 432x288 with 1 Axes>"
            ]
          },
          "metadata": {
            "tags": []
          }
        }
      ]
    },
    {
      "cell_type": "markdown",
      "metadata": {
        "id": "LV4LuUkBecYx",
        "colab_type": "text"
      },
      "source": [
        "**SVM with Gaussian kernel**\n",
        "\n",
        "\n",
        "An RBF kernel with gamma=1/sigma2 is know as Gaussian kernel of variance sigma2."
      ]
    },
    {
      "cell_type": "code",
      "metadata": {
        "id": "na1LuicAee8w",
        "colab_type": "code",
        "colab": {
          "base_uri": "https://localhost:8080/",
          "height": 357
        },
        "outputId": "0925caf7-71cc-4d76-b459-e924ba6b44dc"
      },
      "source": [
        "# Load dataset 2\n",
        "!wget https://github.com/krasserm/machine-learning-notebooks/blob/master/data/ml-ex6/ex6data2.mat?raw=true"
      ],
      "execution_count": 43,
      "outputs": [
        {
          "output_type": "stream",
          "text": [
            "--2019-12-15 16:53:10--  https://github.com/krasserm/machine-learning-notebooks/blob/master/data/ml-ex6/ex6data2.mat?raw=true\n",
            "Resolving github.com (github.com)... 192.30.253.113\n",
            "Connecting to github.com (github.com)|192.30.253.113|:443... connected.\n",
            "HTTP request sent, awaiting response... 302 Found\n",
            "Location: https://github.com/krasserm/machine-learning-notebooks/raw/master/data/ml-ex6/ex6data2.mat [following]\n",
            "--2019-12-15 16:53:10--  https://github.com/krasserm/machine-learning-notebooks/raw/master/data/ml-ex6/ex6data2.mat\n",
            "Reusing existing connection to github.com:443.\n",
            "HTTP request sent, awaiting response... 302 Found\n",
            "Location: https://raw.githubusercontent.com/krasserm/machine-learning-notebooks/master/data/ml-ex6/ex6data2.mat [following]\n",
            "--2019-12-15 16:53:10--  https://raw.githubusercontent.com/krasserm/machine-learning-notebooks/master/data/ml-ex6/ex6data2.mat\n",
            "Resolving raw.githubusercontent.com (raw.githubusercontent.com)... 151.101.0.133, 151.101.64.133, 151.101.128.133, ...\n",
            "Connecting to raw.githubusercontent.com (raw.githubusercontent.com)|151.101.0.133|:443... connected.\n",
            "HTTP request sent, awaiting response... 200 OK\n",
            "Length: 7604 (7.4K) [application/octet-stream]\n",
            "Saving to: ‘ex6data2.mat?raw=true’\n",
            "\n",
            "ex6data2.mat?raw=tr 100%[===================>]   7.43K  --.-KB/s    in 0s      \n",
            "\n",
            "2019-12-15 16:53:10 (89.7 MB/s) - ‘ex6data2.mat?raw=true’ saved [7604/7604]\n",
            "\n"
          ],
          "name": "stdout"
        }
      ]
    },
    {
      "cell_type": "code",
      "metadata": {
        "id": "kpPzjQPHetgC",
        "colab_type": "code",
        "colab": {
          "base_uri": "https://localhost:8080/",
          "height": 34
        },
        "outputId": "4b73451f-fcb3-44ed-b5e2-03c3e9fa2e88"
      },
      "source": [
        "!mv ex6data2.mat?raw=true data.mat\n",
        "data = io.loadmat('data.mat')"
      ],
      "execution_count": 48,
      "outputs": [
        {
          "output_type": "stream",
          "text": [
            "mv: cannot stat 'ex6data2.mat?raw=true': No such file or directory\n"
          ],
          "name": "stdout"
        }
      ]
    },
    {
      "cell_type": "code",
      "metadata": {
        "id": "zRrI6sEOe-nD",
        "colab_type": "code",
        "colab": {}
      },
      "source": [
        "# Examples with features x1 and x2\n",
        "X = data['X']\n",
        "# Examples target class (0=neg, 1=pos)\n",
        "y = data['y'].ravel()"
      ],
      "execution_count": 0,
      "outputs": []
    },
    {
      "cell_type": "code",
      "metadata": {
        "id": "JH9lhexefWHx",
        "colab_type": "code",
        "colab": {
          "base_uri": "https://localhost:8080/",
          "height": 279
        },
        "outputId": "88ca26ac-fa04-4d0a-cdcb-d89e2aa1cf71"
      },
      "source": [
        "# Plot dataset 2\n",
        "plot_data(X, y)"
      ],
      "execution_count": 50,
      "outputs": [
        {
          "output_type": "display_data",
          "data": {
            "image/png": "[encoded data removed]",
            "text/plain": [
              "<Figure size 432x288 with 1 Axes>"
            ]
          },
          "metadata": {
            "tags": []
          }
        }
      ]
    },
    {
      "cell_type": "code",
      "metadata": {
        "id": "007-ViLafayh",
        "colab_type": "code",
        "colab": {
          "base_uri": "https://localhost:8080/",
          "height": 85
        },
        "outputId": "d23f9362-f991-45b3-f28e-bcf2bee133d8"
      },
      "source": [
        "# Train a support vector classifier with C=1 using an RBF kernel.\n",
        "# In ex6.m (original Octave exercise code), sigma=0.1, hence we\n",
        "# set gamma to 100 (=1/sigma**2)\n",
        "clf = SVC(C=1, kernel='rbf', gamma=100)\n",
        "clf.fit(X, y)"
      ],
      "execution_count": 51,
      "outputs": [
        {
          "output_type": "execute_result",
          "data": {
            "text/plain": [
              "SVC(C=1, cache_size=200, class_weight=None, coef0=0.0,\n",
              "    decision_function_shape='ovr', degree=3, gamma=100, kernel='rbf',\n",
              "    max_iter=-1, probability=False, random_state=None, shrinking=True,\n",
              "    tol=0.001, verbose=False)"
            ]
          },
          "metadata": {
            "tags": []
          },
          "execution_count": 51
        }
      ]
    },
    {
      "cell_type": "code",
      "metadata": {
        "id": "2EBtLPhOfdwB",
        "colab_type": "code",
        "colab": {
          "base_uri": "https://localhost:8080/",
          "height": 329
        },
        "outputId": "6a15bba2-d802-4c1e-e989-acbfff5d63b5"
      },
      "source": [
        "plot_data(X, y)\n",
        "plot_boundary(X, clf)\n",
        "plt.title('C=1, gamma=100')"
      ],
      "execution_count": 52,
      "outputs": [
        {
          "output_type": "stream",
          "text": [
            "/usr/local/lib/python3.6/dist-packages/ipykernel_launcher.py:37: UserWarning: No contour levels were found within the data range.\n"
          ],
          "name": "stderr"
        },
        {
          "output_type": "execute_result",
          "data": {
            "text/plain": [
              "Text(0.5, 1.0, 'C=1, gamma=100')"
            ]
          },
          "metadata": {
            "tags": []
          },
          "execution_count": 52
        },
        {
          "output_type": "display_data",
          "data": {
            "image/png": "[encoded data removed]",
            "text/plain": [
              "<Figure size 432x288 with 1 Axes>"
            ]
          },
          "metadata": {
            "tags": []
          }
        }
      ]
    },
    {
      "cell_type": "code",
      "metadata": {
        "id": "XIIob6uvfhjL",
        "colab_type": "code",
        "colab": {
          "base_uri": "https://localhost:8080/",
          "height": 357
        },
        "outputId": "0e1ae729-0f90-461f-e747-1b8920cfa3ef"
      },
      "source": [
        "# Load dataset 3\n",
        "!wget https://github.com/krasserm/machine-learning-notebooks/blob/master/data/ml-ex6/ex6data3.mat?raw=true\n",
        "!mv ex6data3.mat?raw=true data.mat\n",
        "data = io.loadmat('data.mat')"
      ],
      "execution_count": 53,
      "outputs": [
        {
          "output_type": "stream",
          "text": [
            "--2019-12-15 16:57:37--  https://github.com/krasserm/machine-learning-notebooks/blob/master/data/ml-ex6/ex6data3.mat?raw=true\n",
            "Resolving github.com (github.com)... 192.30.253.112\n",
            "Connecting to github.com (github.com)|192.30.253.112|:443... connected.\n",
            "HTTP request sent, awaiting response... 302 Found\n",
            "Location: https://github.com/krasserm/machine-learning-notebooks/raw/master/data/ml-ex6/ex6data3.mat [following]\n",
            "--2019-12-15 16:57:37--  https://github.com/krasserm/machine-learning-notebooks/raw/master/data/ml-ex6/ex6data3.mat\n",
            "Reusing existing connection to github.com:443.\n",
            "HTTP request sent, awaiting response... 302 Found\n",
            "Location: https://raw.githubusercontent.com/krasserm/machine-learning-notebooks/master/data/ml-ex6/ex6data3.mat [following]\n",
            "--2019-12-15 16:57:37--  https://raw.githubusercontent.com/krasserm/machine-learning-notebooks/master/data/ml-ex6/ex6data3.mat\n",
            "Resolving raw.githubusercontent.com (raw.githubusercontent.com)... 151.101.0.133, 151.101.64.133, 151.101.128.133, ...\n",
            "Connecting to raw.githubusercontent.com (raw.githubusercontent.com)|151.101.0.133|:443... connected.\n",
            "HTTP request sent, awaiting response... 200 OK\n",
            "Length: 6038 (5.9K) [application/octet-stream]\n",
            "Saving to: ‘ex6data3.mat?raw=true’\n",
            "\n",
            "ex6data3.mat?raw=tr 100%[===================>]   5.90K  --.-KB/s    in 0s      \n",
            "\n",
            "2019-12-15 16:57:37 (105 MB/s) - ‘ex6data3.mat?raw=true’ saved [6038/6038]\n",
            "\n"
          ],
          "name": "stdout"
        }
      ]
    },
    {
      "cell_type": "code",
      "metadata": {
        "id": "IONlsJusfvZS",
        "colab_type": "code",
        "colab": {}
      },
      "source": [
        "# Training data \n",
        "X_train_0 = data['X']\n",
        "y_train_0 = data['y'].ravel()\n",
        "\n",
        "# Validation data\n",
        "X_cv_0 = data['Xval']\n",
        "y_cv_0 = data['yval'].ravel()"
      ],
      "execution_count": 0,
      "outputs": []
    },
    {
      "cell_type": "code",
      "metadata": {
        "id": "BoI9qMvjfyW4",
        "colab_type": "code",
        "colab": {
          "base_uri": "https://localhost:8080/",
          "height": 312
        },
        "outputId": "c528a2c4-218f-4ea5-db80-5021810f6bbd"
      },
      "source": [
        "plot_data(X_train_0, y_train_0)\n",
        "plt.title('Training data')"
      ],
      "execution_count": 55,
      "outputs": [
        {
          "output_type": "execute_result",
          "data": {
            "text/plain": [
              "Text(0.5, 1.0, 'Training data')"
            ]
          },
          "metadata": {
            "tags": []
          },
          "execution_count": 55
        },
        {
          "output_type": "display_data",
          "data": {
            "image/png": "[encoded data removed]",
            "text/plain": [
              "<Figure size 432x288 with 1 Axes>"
            ]
          },
          "metadata": {
            "tags": []
          }
        }
      ]
    },
    {
      "cell_type": "code",
      "metadata": {
        "id": "fzf0Esg3f4oZ",
        "colab_type": "code",
        "colab": {
          "base_uri": "https://localhost:8080/",
          "height": 312
        },
        "outputId": "7fc24f0d-f6b8-43c6-b16f-aab1e0198d25"
      },
      "source": [
        "plot_data(X_cv_0, y_cv_0)\n",
        "plt.title('Validation data')"
      ],
      "execution_count": 56,
      "outputs": [
        {
          "output_type": "execute_result",
          "data": {
            "text/plain": [
              "Text(0.5, 1.0, 'Validation data')"
            ]
          },
          "metadata": {
            "tags": []
          },
          "execution_count": 56
        },
        {
          "output_type": "display_data",
          "data": {
            "image/png": "[encoded data removed]",
            "text/plain": [
              "<Figure size 432x288 with 1 Axes>"
            ]
          },
          "metadata": {
            "tags": []
          }
        }
      ]
    },
    {
      "cell_type": "code",
      "metadata": {
        "id": "GkRs9oX0f9QD",
        "colab_type": "code",
        "colab": {}
      },
      "source": [
        "# Concatenate training and validation data\n",
        "X = np.concatenate([X_train_0, X_cv_0])\n",
        "y = np.concatenate([y_train_0, y_cv_0])\n",
        "\n",
        "num_train = X_train_0.shape[0]\n",
        "num_cv = X_cv_0.shape[0]\n",
        "\n",
        "# Create a cross validator that selects the pre-defined \n",
        "# validation dataset from the concatenated dataset.\n",
        "cv_fold = np.empty(num_train + num_cv, dtype='int8')\n",
        "cv_fold[:num_train] = -1\n",
        "cv_fold[num_train:] = 0\n",
        "cv = PredefinedSplit(cv_fold)"
      ],
      "execution_count": 0,
      "outputs": []
    },
    {
      "cell_type": "code",
      "metadata": {
        "id": "HeJlrhA-f_9K",
        "colab_type": "code",
        "colab": {}
      },
      "source": [
        "# Values for grid search (see description in ex6.pdf)\n",
        "grid = np.array([0.01, 0.03, 0.1, 0.3, 1, 3, 10, 30])\n",
        "\n",
        "# Grid values for C\n",
        "grid_C = grid\n",
        "# Grid values for gamma\n",
        "grid_gamma = 1 / (grid ** 2)"
      ],
      "execution_count": 0,
      "outputs": []
    },
    {
      "cell_type": "code",
      "metadata": {
        "id": "X0Fase1QgDxq",
        "colab_type": "code",
        "colab": {
          "base_uri": "https://localhost:8080/",
          "height": 238
        },
        "outputId": "335ef2fe-18b1-4404-dd73-22dc0bb36bfa"
      },
      "source": [
        "# Classifier used for grid search\n",
        "clf = SVC(kernel='rbf')\n",
        "\n",
        "# Grid search to find the best C and gamma values using the predefined\n",
        "# training and validation set.\n",
        "gs = GridSearchCV(clf, param_grid={'C':grid_C, 'gamma':grid_gamma}, cv=cv)\n",
        "gs.fit(X, y)"
      ],
      "execution_count": 59,
      "outputs": [
        {
          "output_type": "execute_result",
          "data": {
            "text/plain": [
              "GridSearchCV(cv=PredefinedSplit(test_fold=array([-1, -1, ...,  0,  0])),\n",
              "             error_score='raise-deprecating',\n",
              "             estimator=SVC(C=1.0, cache_size=200, class_weight=None, coef0=0.0,\n",
              "                           decision_function_shape='ovr', degree=3,\n",
              "                           gamma='auto_deprecated', kernel='rbf', max_iter=-1,\n",
              "                           probability=False, random_state=None, shrinking=True,\n",
              "                           tol=0.001, verbose=False),\n",
              "             iid='warn', n_jobs=None,\n",
              "             param_grid={'C': array([1.e-02, 3.e-02, 1.e-01, 3.e-01, 1.e+00, 3.e+00, 1.e+01, 3.e+01]),\n",
              "                         'gamma': array([1.00000000e+04, 1.11111111e+03, 1.00000000e+02, 1.11111111e+01,\n",
              "       1.00000000e+00, 1.11111111e-01, 1.00000000e-02, 1.11111111e-03])},\n",
              "             pre_dispatch='2*n_jobs', refit=True, return_train_score=False,\n",
              "             scoring=None, verbose=0)"
            ]
          },
          "metadata": {
            "tags": []
          },
          "execution_count": 59
        }
      ]
    },
    {
      "cell_type": "code",
      "metadata": {
        "id": "4kPbLGKMgHYz",
        "colab_type": "code",
        "colab": {
          "base_uri": "https://localhost:8080/",
          "height": 575
        },
        "outputId": "9f41f543-6620-4464-9317-64b327414d70"
      },
      "source": [
        "# Display grid search results in a pandas DataFrame\n",
        "pd.DataFrame(gs.cv_results_)"
      ],
      "execution_count": 60,
      "outputs": [
        {
          "output_type": "execute_result",
          "data": {
            "text/html": [
              "<div>\n",
              "<style scoped>\n",
              "    .dataframe tbody tr th:only-of-type {\n",
              "        vertical-align: middle;\n",
              "    }\n",
              "\n",
              "    .dataframe tbody tr th {\n",
              "        vertical-align: top;\n",
              "    }\n",
              "\n",
              "    .dataframe thead th {\n",
              "        text-align: right;\n",
              "    }\n",
              "</style>\n",
              "<table border=\"1\" class=\"dataframe\">\n",
              "  <thead>\n",
              "    <tr style=\"text-align: right;\">\n",
              "      <th></th>\n",
              "      <th>mean_fit_time</th>\n",
              "      <th>std_fit_time</th>\n",
              "      <th>mean_score_time</th>\n",
              "      <th>std_score_time</th>\n",
              "      <th>param_C</th>\n",
              "      <th>param_gamma</th>\n",
              "      <th>params</th>\n",
              "      <th>split0_test_score</th>\n",
              "      <th>mean_test_score</th>\n",
              "      <th>std_test_score</th>\n",
              "      <th>rank_test_score</th>\n",
              "    </tr>\n",
              "  </thead>\n",
              "  <tbody>\n",
              "    <tr>\n",
              "      <th>0</th>\n",
              "      <td>0.004228</td>\n",
              "      <td>0.0</td>\n",
              "      <td>0.002695</td>\n",
              "      <td>0.0</td>\n",
              "      <td>0.01</td>\n",
              "      <td>10000</td>\n",
              "      <td>{'C': 0.01, 'gamma': 10000.0}</td>\n",
              "      <td>0.435</td>\n",
              "      <td>0.435</td>\n",
              "      <td>0.0</td>\n",
              "      <td>42</td>\n",
              "    </tr>\n",
              "    <tr>\n",
              "      <th>1</th>\n",
              "      <td>0.002699</td>\n",
              "      <td>0.0</td>\n",
              "      <td>0.001852</td>\n",
              "      <td>0.0</td>\n",
              "      <td>0.01</td>\n",
              "      <td>1111.11</td>\n",
              "      <td>{'C': 0.01, 'gamma': 1111.111111111111}</td>\n",
              "      <td>0.435</td>\n",
              "      <td>0.435</td>\n",
              "      <td>0.0</td>\n",
              "      <td>42</td>\n",
              "    </tr>\n",
              "    <tr>\n",
              "      <th>2</th>\n",
              "      <td>0.002362</td>\n",
              "      <td>0.0</td>\n",
              "      <td>0.001581</td>\n",
              "      <td>0.0</td>\n",
              "      <td>0.01</td>\n",
              "      <td>100</td>\n",
              "      <td>{'C': 0.01, 'gamma': 99.99999999999999}</td>\n",
              "      <td>0.435</td>\n",
              "      <td>0.435</td>\n",
              "      <td>0.0</td>\n",
              "      <td>42</td>\n",
              "    </tr>\n",
              "    <tr>\n",
              "      <th>3</th>\n",
              "      <td>0.002203</td>\n",
              "      <td>0.0</td>\n",
              "      <td>0.001404</td>\n",
              "      <td>0.0</td>\n",
              "      <td>0.01</td>\n",
              "      <td>11.1111</td>\n",
              "      <td>{'C': 0.01, 'gamma': 11.11111111111111}</td>\n",
              "      <td>0.435</td>\n",
              "      <td>0.435</td>\n",
              "      <td>0.0</td>\n",
              "      <td>42</td>\n",
              "    </tr>\n",
              "    <tr>\n",
              "      <th>4</th>\n",
              "      <td>0.001988</td>\n",
              "      <td>0.0</td>\n",
              "      <td>0.001415</td>\n",
              "      <td>0.0</td>\n",
              "      <td>0.01</td>\n",
              "      <td>1</td>\n",
              "      <td>{'C': 0.01, 'gamma': 1.0}</td>\n",
              "      <td>0.435</td>\n",
              "      <td>0.435</td>\n",
              "      <td>0.0</td>\n",
              "      <td>42</td>\n",
              "    </tr>\n",
              "    <tr>\n",
              "      <th>...</th>\n",
              "      <td>...</td>\n",
              "      <td>...</td>\n",
              "      <td>...</td>\n",
              "      <td>...</td>\n",
              "      <td>...</td>\n",
              "      <td>...</td>\n",
              "      <td>...</td>\n",
              "      <td>...</td>\n",
              "      <td>...</td>\n",
              "      <td>...</td>\n",
              "      <td>...</td>\n",
              "    </tr>\n",
              "    <tr>\n",
              "      <th>59</th>\n",
              "      <td>0.001581</td>\n",
              "      <td>0.0</td>\n",
              "      <td>0.000578</td>\n",
              "      <td>0.0</td>\n",
              "      <td>30</td>\n",
              "      <td>11.1111</td>\n",
              "      <td>{'C': 30.0, 'gamma': 11.11111111111111}</td>\n",
              "      <td>0.960</td>\n",
              "      <td>0.960</td>\n",
              "      <td>0.0</td>\n",
              "      <td>3</td>\n",
              "    </tr>\n",
              "    <tr>\n",
              "      <th>60</th>\n",
              "      <td>0.001121</td>\n",
              "      <td>0.0</td>\n",
              "      <td>0.000563</td>\n",
              "      <td>0.0</td>\n",
              "      <td>30</td>\n",
              "      <td>1</td>\n",
              "      <td>{'C': 30.0, 'gamma': 1.0}</td>\n",
              "      <td>0.935</td>\n",
              "      <td>0.935</td>\n",
              "      <td>0.0</td>\n",
              "      <td>11</td>\n",
              "    </tr>\n",
              "    <tr>\n",
              "      <th>61</th>\n",
              "      <td>0.001053</td>\n",
              "      <td>0.0</td>\n",
              "      <td>0.000617</td>\n",
              "      <td>0.0</td>\n",
              "      <td>30</td>\n",
              "      <td>0.111111</td>\n",
              "      <td>{'C': 30.0, 'gamma': 0.1111111111111111}</td>\n",
              "      <td>0.935</td>\n",
              "      <td>0.935</td>\n",
              "      <td>0.0</td>\n",
              "      <td>11</td>\n",
              "    </tr>\n",
              "    <tr>\n",
              "      <th>62</th>\n",
              "      <td>0.001221</td>\n",
              "      <td>0.0</td>\n",
              "      <td>0.000862</td>\n",
              "      <td>0.0</td>\n",
              "      <td>30</td>\n",
              "      <td>0.01</td>\n",
              "      <td>{'C': 30.0, 'gamma': 0.01}</td>\n",
              "      <td>0.915</td>\n",
              "      <td>0.915</td>\n",
              "      <td>0.0</td>\n",
              "      <td>18</td>\n",
              "    </tr>\n",
              "    <tr>\n",
              "      <th>63</th>\n",
              "      <td>0.001734</td>\n",
              "      <td>0.0</td>\n",
              "      <td>0.001234</td>\n",
              "      <td>0.0</td>\n",
              "      <td>30</td>\n",
              "      <td>0.00111111</td>\n",
              "      <td>{'C': 30.0, 'gamma': 0.0011111111111111111}</td>\n",
              "      <td>0.820</td>\n",
              "      <td>0.820</td>\n",
              "      <td>0.0</td>\n",
              "      <td>31</td>\n",
              "    </tr>\n",
              "  </tbody>\n",
              "</table>\n",
              "<p>64 rows × 11 columns</p>\n",
              "</div>"
            ],
            "text/plain": [
              "    mean_fit_time  std_fit_time  ...  std_test_score  rank_test_score\n",
              "0        0.004228           0.0  ...             0.0               42\n",
              "1        0.002699           0.0  ...             0.0               42\n",
              "2        0.002362           0.0  ...             0.0               42\n",
              "3        0.002203           0.0  ...             0.0               42\n",
              "4        0.001988           0.0  ...             0.0               42\n",
              "..            ...           ...  ...             ...              ...\n",
              "59       0.001581           0.0  ...             0.0                3\n",
              "60       0.001121           0.0  ...             0.0               11\n",
              "61       0.001053           0.0  ...             0.0               11\n",
              "62       0.001221           0.0  ...             0.0               18\n",
              "63       0.001734           0.0  ...             0.0               31\n",
              "\n",
              "[64 rows x 11 columns]"
            ]
          },
          "metadata": {
            "tags": []
          },
          "execution_count": 60
        }
      ]
    },
    {
      "cell_type": "code",
      "metadata": {
        "id": "WJzjZoDEgImK",
        "colab_type": "code",
        "colab": {
          "base_uri": "https://localhost:8080/",
          "height": 85
        },
        "outputId": "2c60aae7-4f0b-492e-aad3-deecd64b89d9"
      },
      "source": [
        "# Obtain best classifier from grid search\n",
        "clf_best = gs.best_estimator_\n",
        "clf_best"
      ],
      "execution_count": 62,
      "outputs": [
        {
          "output_type": "execute_result",
          "data": {
            "text/plain": [
              "SVC(C=0.3, cache_size=200, class_weight=None, coef0=0.0,\n",
              "    decision_function_shape='ovr', degree=3, gamma=99.99999999999999,\n",
              "    kernel='rbf', max_iter=-1, probability=False, random_state=None,\n",
              "    shrinking=True, tol=0.001, verbose=False)"
            ]
          },
          "metadata": {
            "tags": []
          },
          "execution_count": 62
        }
      ]
    },
    {
      "cell_type": "code",
      "metadata": {
        "id": "iNaLMka8gTlH",
        "colab_type": "code",
        "colab": {
          "base_uri": "https://localhost:8080/",
          "height": 34
        },
        "outputId": "7316d00b-ded0-490c-9a74-be417ad015ab"
      },
      "source": [
        "print('best C value =', clf_best.C)"
      ],
      "execution_count": 63,
      "outputs": [
        {
          "output_type": "stream",
          "text": [
            "best C value = 0.3\n"
          ],
          "name": "stdout"
        }
      ]
    },
    {
      "cell_type": "code",
      "metadata": {
        "id": "8jOBPPsJgUbs",
        "colab_type": "code",
        "colab": {
          "base_uri": "https://localhost:8080/",
          "height": 34
        },
        "outputId": "e67b9025-4f02-4730-cb9c-eda65abc96a3"
      },
      "source": [
        "print('best gamma value =', clf_best.gamma)"
      ],
      "execution_count": 64,
      "outputs": [
        {
          "output_type": "stream",
          "text": [
            "best gamma value = 99.99999999999999\n"
          ],
          "name": "stdout"
        }
      ]
    },
    {
      "cell_type": "code",
      "metadata": {
        "id": "nrY5cJKygZls",
        "colab_type": "code",
        "colab": {
          "base_uri": "https://localhost:8080/",
          "height": 329
        },
        "outputId": "8decf1c7-8bb4-4b2d-838b-e47787b19408"
      },
      "source": [
        "plot_data(X_train_0, y_train_0)\n",
        "plot_boundary(X_train_0, clf_best)\n",
        "plt.title(f'C={clf_best.C:.4}, gamma={clf_best.gamma:.4}')"
      ],
      "execution_count": 65,
      "outputs": [
        {
          "output_type": "stream",
          "text": [
            "/usr/local/lib/python3.6/dist-packages/ipykernel_launcher.py:37: UserWarning: No contour levels were found within the data range.\n"
          ],
          "name": "stderr"
        },
        {
          "output_type": "execute_result",
          "data": {
            "text/plain": [
              "Text(0.5, 1.0, 'C=0.3, gamma=100.0')"
            ]
          },
          "metadata": {
            "tags": []
          },
          "execution_count": 65
        },
        {
          "output_type": "display_data",
          "data": {
            "image/png": "[encoded data removed]",
            "text/plain": [
              "<Figure size 432x288 with 1 Axes>"
            ]
          },
          "metadata": {
            "tags": []
          }
        }
      ]
    },
    {
      "cell_type": "markdown",
      "metadata": {
        "id": "j5ONvhJ4get6",
        "colab_type": "text"
      },
      "source": [
        "##Spam classification"
      ]
    },
    {
      "cell_type": "code",
      "metadata": {
        "id": "dSFL5iYpggTL",
        "colab_type": "code",
        "colab": {
          "base_uri": "https://localhost:8080/",
          "height": 357
        },
        "outputId": "d2a8cbbe-d16a-43a2-c620-a243c262b93a"
      },
      "source": [
        "!wget https://github.com/krasserm/machine-learning-notebooks/blob/master/data/ml-ex6/spamTrain.mat?raw=true\n",
        "!mv spamTrain.mat?raw=true data.mat\n",
        "data_train = io.loadmat('data.mat')"
      ],
      "execution_count": 67,
      "outputs": [
        {
          "output_type": "stream",
          "text": [
            "--2019-12-15 17:03:45--  https://github.com/krasserm/machine-learning-notebooks/blob/master/data/ml-ex6/spamTrain.mat?raw=true\n",
            "Resolving github.com (github.com)... 140.82.113.4\n",
            "Connecting to github.com (github.com)|140.82.113.4|:443... connected.\n",
            "HTTP request sent, awaiting response... 302 Found\n",
            "Location: https://github.com/krasserm/machine-learning-notebooks/raw/master/data/ml-ex6/spamTrain.mat [following]\n",
            "--2019-12-15 17:03:45--  https://github.com/krasserm/machine-learning-notebooks/raw/master/data/ml-ex6/spamTrain.mat\n",
            "Reusing existing connection to github.com:443.\n",
            "HTTP request sent, awaiting response... 302 Found\n",
            "Location: https://raw.githubusercontent.com/krasserm/machine-learning-notebooks/master/data/ml-ex6/spamTrain.mat [following]\n",
            "--2019-12-15 17:03:45--  https://raw.githubusercontent.com/krasserm/machine-learning-notebooks/master/data/ml-ex6/spamTrain.mat\n",
            "Resolving raw.githubusercontent.com (raw.githubusercontent.com)... 151.101.0.133, 151.101.64.133, 151.101.128.133, ...\n",
            "Connecting to raw.githubusercontent.com (raw.githubusercontent.com)|151.101.0.133|:443... connected.\n",
            "HTTP request sent, awaiting response... 200 OK\n",
            "Length: 428814 (419K) [application/octet-stream]\n",
            "Saving to: ‘spamTrain.mat?raw=true.1’\n",
            "\n",
            "\rspamTrain.mat?raw=t   0%[                    ]       0  --.-KB/s               \rspamTrain.mat?raw=t 100%[===================>] 418.76K  --.-KB/s    in 0.03s   \n",
            "\n",
            "2019-12-15 17:03:45 (13.7 MB/s) - ‘spamTrain.mat?raw=true.1’ saved [428814/428814]\n",
            "\n"
          ],
          "name": "stdout"
        }
      ]
    },
    {
      "cell_type": "code",
      "metadata": {
        "id": "VRdweooqgoAC",
        "colab_type": "code",
        "colab": {
          "base_uri": "https://localhost:8080/",
          "height": 357
        },
        "outputId": "62ade969-18e6-4037-d11d-8080e55b34ec"
      },
      "source": [
        "!wget https://github.com/krasserm/machine-learning-notebooks/blob/master/data/ml-ex6/spamTest.mat?raw=true\n",
        "!mv spamTest.mat?raw=true data.mat\n",
        "data_test = io.loadmat('data.mat')"
      ],
      "execution_count": 68,
      "outputs": [
        {
          "output_type": "stream",
          "text": [
            "--2019-12-15 17:04:05--  https://github.com/krasserm/machine-learning-notebooks/blob/master/data/ml-ex6/spamTest.mat?raw=true\n",
            "Resolving github.com (github.com)... 140.82.113.4\n",
            "Connecting to github.com (github.com)|140.82.113.4|:443... connected.\n",
            "HTTP request sent, awaiting response... 302 Found\n",
            "Location: https://github.com/krasserm/machine-learning-notebooks/raw/master/data/ml-ex6/spamTest.mat [following]\n",
            "--2019-12-15 17:04:05--  https://github.com/krasserm/machine-learning-notebooks/raw/master/data/ml-ex6/spamTest.mat\n",
            "Reusing existing connection to github.com:443.\n",
            "HTTP request sent, awaiting response... 302 Found\n",
            "Location: https://raw.githubusercontent.com/krasserm/machine-learning-notebooks/master/data/ml-ex6/spamTest.mat [following]\n",
            "--2019-12-15 17:04:06--  https://raw.githubusercontent.com/krasserm/machine-learning-notebooks/master/data/ml-ex6/spamTest.mat\n",
            "Resolving raw.githubusercontent.com (raw.githubusercontent.com)... 151.101.0.133, 151.101.64.133, 151.101.128.133, ...\n",
            "Connecting to raw.githubusercontent.com (raw.githubusercontent.com)|151.101.0.133|:443... connected.\n",
            "HTTP request sent, awaiting response... 200 OK\n",
            "Length: 112717 (110K) [application/octet-stream]\n",
            "Saving to: ‘spamTest.mat?raw=true’\n",
            "\n",
            "spamTest.mat?raw=tr 100%[===================>] 110.08K  --.-KB/s    in 0.02s   \n",
            "\n",
            "2019-12-15 17:04:06 (4.97 MB/s) - ‘spamTest.mat?raw=true’ saved [112717/112717]\n",
            "\n"
          ],
          "name": "stdout"
        }
      ]
    },
    {
      "cell_type": "code",
      "metadata": {
        "id": "VWCMVJ46hRP7",
        "colab_type": "code",
        "colab": {
          "base_uri": "https://localhost:8080/",
          "height": 306
        },
        "outputId": "8e23fa69-f33f-4a3c-b343-501c2e58f980"
      },
      "source": [
        "data_train"
      ],
      "execution_count": 69,
      "outputs": [
        {
          "output_type": "execute_result",
          "data": {
            "text/plain": [
              "{'X': array([[0, 0, 0, ..., 0, 0, 0],\n",
              "        [0, 0, 0, ..., 0, 0, 0],\n",
              "        [0, 0, 0, ..., 0, 0, 0],\n",
              "        ...,\n",
              "        [0, 0, 0, ..., 0, 0, 0],\n",
              "        [0, 0, 1, ..., 0, 0, 0],\n",
              "        [0, 0, 0, ..., 0, 0, 0]], dtype=uint8),\n",
              " '__globals__': [],\n",
              " '__header__': b'MATLAB 5.0 MAT-file, Platform: GLNXA64, Created on: Sun Nov 13 14:27:25 2011',\n",
              " '__version__': '1.0',\n",
              " 'y': array([[1],\n",
              "        [1],\n",
              "        [0],\n",
              "        ...,\n",
              "        [1],\n",
              "        [0],\n",
              "        [0]], dtype=uint8)}"
            ]
          },
          "metadata": {
            "tags": []
          },
          "execution_count": 69
        }
      ]
    },
    {
      "cell_type": "code",
      "metadata": {
        "id": "_Kcb-_NghU_7",
        "colab_type": "code",
        "colab": {}
      },
      "source": [
        "# Example feature vectors\n",
        "X_train = data_train['X']\n",
        "X_test = data_test['Xtest']\n",
        "\n",
        "# Example classes (0=non-spam, 1=spam)\n",
        "y_train = data_train['y'].ravel()\n",
        "y_test = data_test['ytest'].ravel()"
      ],
      "execution_count": 0,
      "outputs": []
    },
    {
      "cell_type": "code",
      "metadata": {
        "id": "C3-zM6Nyhn7F",
        "colab_type": "code",
        "colab": {
          "base_uri": "https://localhost:8080/",
          "height": 136
        },
        "outputId": "f671561e-c58e-40ff-8bab-c32cdbc794d8"
      },
      "source": [
        "X_train, X_train.shape"
      ],
      "execution_count": 77,
      "outputs": [
        {
          "output_type": "execute_result",
          "data": {
            "text/plain": [
              "(array([[0, 0, 0, ..., 0, 0, 0],\n",
              "        [0, 0, 0, ..., 0, 0, 0],\n",
              "        [0, 0, 0, ..., 0, 0, 0],\n",
              "        ...,\n",
              "        [0, 0, 0, ..., 0, 0, 0],\n",
              "        [0, 0, 1, ..., 0, 0, 0],\n",
              "        [0, 0, 0, ..., 0, 0, 0]], dtype=uint8), (4000, 1899))"
            ]
          },
          "metadata": {
            "tags": []
          },
          "execution_count": 77
        }
      ]
    },
    {
      "cell_type": "code",
      "metadata": {
        "id": "YGJIbaC-h8Gs",
        "colab_type": "code",
        "colab": {
          "base_uri": "https://localhost:8080/",
          "height": 85
        },
        "outputId": "00dc2588-59c5-40a0-bf68-4cbc515bfdfc"
      },
      "source": [
        "# Train a linear SVC (running liblinear) using the \n",
        "# same value for C as in in the original exercise \n",
        "# (see ex6_spam.m)\n",
        "clf = LinearSVC(C=0.1)\n",
        "clf.fit(X_train, y_train)"
      ],
      "execution_count": 79,
      "outputs": [
        {
          "output_type": "execute_result",
          "data": {
            "text/plain": [
              "LinearSVC(C=0.1, class_weight=None, dual=True, fit_intercept=True,\n",
              "          intercept_scaling=1, loss='squared_hinge', max_iter=1000,\n",
              "          multi_class='ovr', penalty='l2', random_state=None, tol=0.0001,\n",
              "          verbose=0)"
            ]
          },
          "metadata": {
            "tags": []
          },
          "execution_count": 79
        }
      ]
    },
    {
      "cell_type": "code",
      "metadata": {
        "id": "8xBhWSc5h_Bk",
        "colab_type": "code",
        "colab": {
          "base_uri": "https://localhost:8080/",
          "height": 34
        },
        "outputId": "54884f4d-6048-4bb7-9f64-144dc566bbb9"
      },
      "source": [
        "# Training score\n",
        "clf.score(X_train, y_train)"
      ],
      "execution_count": 80,
      "outputs": [
        {
          "output_type": "execute_result",
          "data": {
            "text/plain": [
              "0.99975"
            ]
          },
          "metadata": {
            "tags": []
          },
          "execution_count": 80
        }
      ]
    },
    {
      "cell_type": "code",
      "metadata": {
        "id": "l5HPiEnQiDsF",
        "colab_type": "code",
        "colab": {
          "base_uri": "https://localhost:8080/",
          "height": 34
        },
        "outputId": "a5487d2a-1985-4727-8ae2-55429dd1696a"
      },
      "source": [
        "# Test score\n",
        "clf.score(X_test, y_test)"
      ],
      "execution_count": 81,
      "outputs": [
        {
          "output_type": "execute_result",
          "data": {
            "text/plain": [
              "0.992"
            ]
          },
          "metadata": {
            "tags": []
          },
          "execution_count": 81
        }
      ]
    },
    {
      "cell_type": "code",
      "metadata": {
        "id": "B0jHnYwJidmJ",
        "colab_type": "code",
        "colab": {
          "base_uri": "https://localhost:8080/",
          "height": 204
        },
        "outputId": "92fee725-19c5-413f-d80f-0e36d54d87c8"
      },
      "source": [
        "!wget https://github.com/krasserm/machine-learning-notebooks/blob/master/data/ml-ex6/vocab.txt"
      ],
      "execution_count": 83,
      "outputs": [
        {
          "output_type": "stream",
          "text": [
            "--2019-12-15 17:09:45--  https://github.com/krasserm/machine-learning-notebooks/blob/master/data/ml-ex6/vocab.txt\n",
            "Resolving github.com (github.com)... 140.82.114.4\n",
            "Connecting to github.com (github.com)|140.82.114.4|:443... connected.\n",
            "HTTP request sent, awaiting response... 200 OK\n",
            "Length: unspecified [text/html]\n",
            "Saving to: ‘vocab.txt’\n",
            "\n",
            "vocab.txt               [  <=>               ] 422.00K  1.23MB/s    in 0.3s    \n",
            "\n",
            "2019-12-15 17:09:46 (1.23 MB/s) - ‘vocab.txt’ saved [432130]\n",
            "\n"
          ],
          "name": "stdout"
        }
      ]
    },
    {
      "cell_type": "code",
      "metadata": {
        "id": "G2y18I5tjr0V",
        "colab_type": "code",
        "colab": {}
      },
      "source": [
        "def read_file(file):\n",
        "    with open(file) as f:\n",
        "        return f.read()"
      ],
      "execution_count": 0,
      "outputs": []
    },
    {
      "cell_type": "code",
      "metadata": {
        "id": "oqvj9aVJjut-",
        "colab_type": "code",
        "colab": {}
      },
      "source": [
        ""
      ],
      "execution_count": 0,
      "outputs": []
    },
    {
      "cell_type": "code",
      "metadata": {
        "id": "algOVJVXiHrj",
        "colab_type": "code",
        "colab": {
          "base_uri": "https://localhost:8080/",
          "height": 231
        },
        "outputId": "25f3427a-a8c4-4c33-f9fd-780124976b5d"
      },
      "source": [
        "vocab = {}\n",
        "\n",
        "# Read provided vocabulary from vocab.txt file and add \n",
        "# content to vocab, converting 1-based to 0-based index\n",
        "with open('vocab.txt') as vocab_file:\n",
        "    for row in csv.reader(vocab_file, delimiter='\\t'):\n",
        "        word = row[1]\n",
        "        index = int(row[0]) - 1\n",
        "        vocab[word] = index"
      ],
      "execution_count": 87,
      "outputs": [
        {
          "output_type": "error",
          "ename": "IndexError",
          "evalue": "ignored",
          "traceback": [
            "\u001b[0;31m---------------------------------------------------------------------------\u001b[0m",
            "\u001b[0;31mIndexError\u001b[0m                                Traceback (most recent call last)",
            "\u001b[0;32m<ipython-input-87-3e6244a1a772>\u001b[0m in \u001b[0;36m<module>\u001b[0;34m()\u001b[0m\n\u001b[1;32m      5\u001b[0m \u001b[0;32mwith\u001b[0m \u001b[0mopen\u001b[0m\u001b[0;34m(\u001b[0m\u001b[0;34m'vocab.txt'\u001b[0m\u001b[0;34m)\u001b[0m \u001b[0;32mas\u001b[0m \u001b[0mvocab_file\u001b[0m\u001b[0;34m:\u001b[0m\u001b[0;34m\u001b[0m\u001b[0;34m\u001b[0m\u001b[0m\n\u001b[1;32m      6\u001b[0m     \u001b[0;32mfor\u001b[0m \u001b[0mrow\u001b[0m \u001b[0;32min\u001b[0m \u001b[0mcsv\u001b[0m\u001b[0;34m.\u001b[0m\u001b[0mreader\u001b[0m\u001b[0;34m(\u001b[0m\u001b[0mvocab_file\u001b[0m\u001b[0;34m,\u001b[0m \u001b[0mdelimiter\u001b[0m\u001b[0;34m=\u001b[0m\u001b[0;34m'\\t'\u001b[0m\u001b[0;34m)\u001b[0m\u001b[0;34m:\u001b[0m\u001b[0;34m\u001b[0m\u001b[0;34m\u001b[0m\u001b[0m\n\u001b[0;32m----> 7\u001b[0;31m         \u001b[0mword\u001b[0m \u001b[0;34m=\u001b[0m \u001b[0mrow\u001b[0m\u001b[0;34m[\u001b[0m\u001b[0;36m1\u001b[0m\u001b[0;34m]\u001b[0m\u001b[0;34m\u001b[0m\u001b[0;34m\u001b[0m\u001b[0m\n\u001b[0m\u001b[1;32m      8\u001b[0m         \u001b[0mindex\u001b[0m \u001b[0;34m=\u001b[0m \u001b[0mint\u001b[0m\u001b[0;34m(\u001b[0m\u001b[0mrow\u001b[0m\u001b[0;34m[\u001b[0m\u001b[0;36m0\u001b[0m\u001b[0;34m]\u001b[0m\u001b[0;34m)\u001b[0m \u001b[0;34m-\u001b[0m \u001b[0;36m1\u001b[0m\u001b[0;34m\u001b[0m\u001b[0;34m\u001b[0m\u001b[0m\n\u001b[1;32m      9\u001b[0m         \u001b[0mvocab\u001b[0m\u001b[0;34m[\u001b[0m\u001b[0mword\u001b[0m\u001b[0;34m]\u001b[0m \u001b[0;34m=\u001b[0m \u001b[0mindex\u001b[0m\u001b[0;34m\u001b[0m\u001b[0;34m\u001b[0m\u001b[0m\n",
            "\u001b[0;31mIndexError\u001b[0m: list index out of range"
          ]
        }
      ]
    }
  ]
}